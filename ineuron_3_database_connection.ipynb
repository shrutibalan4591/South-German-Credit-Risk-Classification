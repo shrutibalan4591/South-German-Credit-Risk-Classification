{
  "cells": [
    {
      "cell_type": "markdown",
      "source": [
        "**Install necessary packages**"
      ],
      "metadata": {
        "id": "enWcKP6NC7HM"
      }
    },
    {
      "cell_type": "code",
      "execution_count": null,
      "metadata": {
        "id": "4vxgxk5GEV04",
        "colab": {
          "base_uri": "https://localhost:8080/"
        },
        "outputId": "7e2f177f-0dc5-4dbb-f5bd-e8922556eea2"
      },
      "outputs": [
        {
          "output_type": "stream",
          "name": "stdout",
          "text": [
            "Looking in indexes: https://pypi.org/simple, https://us-python.pkg.dev/colab-wheels/public/simple/\n",
            "Requirement already satisfied: cassandra-driver in /usr/local/lib/python3.7/dist-packages (3.25.0)\n",
            "Requirement already satisfied: geomet<0.3,>=0.1 in /usr/local/lib/python3.7/dist-packages (from cassandra-driver) (0.2.1.post1)\n",
            "Requirement already satisfied: six>=1.9 in /usr/local/lib/python3.7/dist-packages (from cassandra-driver) (1.15.0)\n",
            "Requirement already satisfied: click in /usr/local/lib/python3.7/dist-packages (from geomet<0.3,>=0.1->cassandra-driver) (7.1.2)\n",
            "cassandra driver version = 3.25.0\n"
          ]
        }
      ],
      "source": [
        "!pip install cassandra-driver\n",
        "!python -c 'import cassandra; print (\"cassandra driver version = \" + cassandra.__version__)'"
      ]
    },
    {
      "cell_type": "markdown",
      "source": [
        "**Import necessary libraries**"
      ],
      "metadata": {
        "id": "HOJqH-3WCbA9"
      }
    },
    {
      "cell_type": "code",
      "source": [
        "import logging\n",
        "\n",
        "logger = logging.getLogger()\n",
        "\n",
        "file_handler = logging.FileHandler(filename='scr_db_log.log', mode='w')\n",
        "formatter = logging.Formatter('%(asctime)s - %(name)s - %(levelname)s - %(message)s')\n",
        "file_handler.setFormatter(formatter)\n",
        "logger.addHandler(file_handler)\n",
        "\n",
        "logger.setLevel(logging.DEBUG)\n",
        "logger.info('FILE STARTS RUNNING!')"
      ],
      "metadata": {
        "id": "6MEIMxLHVR2m",
        "colab": {
          "base_uri": "https://localhost:8080/"
        },
        "outputId": "2a419e97-7b95-4c04-f997-1f35415199b0"
      },
      "execution_count": null,
      "outputs": [
        {
          "output_type": "stream",
          "name": "stderr",
          "text": [
            "INFO:root:FILE STARTS RUNNING!\n"
          ]
        }
      ]
    },
    {
      "cell_type": "code",
      "source": [
        "import cassandra\n",
        "from cassandra.cluster import Cluster\n",
        "from cassandra.auth import PlainTextAuthProvider\n",
        "import numpy as np\n",
        "import pandas as pd\n",
        "import os\n",
        "import csv\n",
        "import sys\n",
        "\n",
        "import warnings\n",
        "warnings.filterwarnings('ignore')"
      ],
      "metadata": {
        "id": "jaqs6mJaCiz7",
        "colab": {
          "base_uri": "https://localhost:8080/"
        },
        "outputId": "2fdc50ed-cce6-489a-ce39-58b7cf50674a"
      },
      "execution_count": null,
      "outputs": [
        {
          "output_type": "stream",
          "name": "stderr",
          "text": [
            "INFO:numexpr.utils:NumExpr defaulting to 2 threads.\n"
          ]
        }
      ]
    },
    {
      "cell_type": "code",
      "source": [
        "logger.info('Libraries imported..')"
      ],
      "metadata": {
        "id": "J71HTBEyVtKf",
        "colab": {
          "base_uri": "https://localhost:8080/"
        },
        "outputId": "0df6fb71-4ed8-4fa2-c527-bada58111266"
      },
      "execution_count": null,
      "outputs": [
        {
          "output_type": "stream",
          "name": "stderr",
          "text": [
            "INFO:root:Libraries imported..\n"
          ]
        }
      ]
    },
    {
      "cell_type": "code",
      "execution_count": null,
      "metadata": {
        "id": "NW6hpmjlASJe"
      },
      "outputs": [],
      "source": [
        "df= pd.read_csv('/content/German_credit.csv')\n",
        "df['ID'] = df.index                           # Adding ID column which will act as Primary key when inserted into database\n",
        "\n",
        "df.to_csv('/content/German_credit_2.csv')"
      ]
    },
    {
      "cell_type": "code",
      "source": [
        "logger.info('Data file to be inserted to database imported..')"
      ],
      "metadata": {
        "id": "KwZgyseiV2Ti",
        "colab": {
          "base_uri": "https://localhost:8080/"
        },
        "outputId": "50ce7e59-399c-4623-ecdc-0583e771ef63"
      },
      "execution_count": null,
      "outputs": [
        {
          "output_type": "stream",
          "name": "stderr",
          "text": [
            "INFO:root:Data file to be inserted to database imported..\n"
          ]
        }
      ]
    },
    {
      "cell_type": "code",
      "execution_count": null,
      "metadata": {
        "id": "ZLuheHDHzA1g"
      },
      "outputs": [],
      "source": [
        "ASTRA_DB_TOKEN=\"AstraCS:iQyLbOiYUpxBBjOpKxYMKvnQ\"\n",
        "ASTRA_DB_SECURE_BUNDLE_LOCATION=\"/content/secure-connect-ineuron-3.zip\"\n",
        "\n",
        "!env | grep ASTRA"
      ]
    },
    {
      "cell_type": "code",
      "execution_count": null,
      "metadata": {
        "id": "Y7a2GiYkFN71"
      },
      "outputs": [],
      "source": [
        "username = \"token\"\n",
        "token = ASTRA_DB_TOKEN\n",
        "secureBundleLocation = ASTRA_DB_SECURE_BUNDLE_LOCATION"
      ]
    },
    {
      "cell_type": "code",
      "execution_count": null,
      "metadata": {
        "id": "BFh3k8MaGPY6"
      },
      "outputs": [],
      "source": [
        "# Database Name : Ineuron_3\n",
        "# Keyspace Name : german_credit\n",
        "# Table Name : credit_data"
      ]
    },
    {
      "cell_type": "code",
      "execution_count": null,
      "metadata": {
        "colab": {
          "base_uri": "https://localhost:8080/"
        },
        "id": "9h8GI4psWIth",
        "outputId": "75d5d5d8-7cf6-4ef1-976b-207f3131be1b"
      },
      "outputs": [
        {
          "output_type": "stream",
          "name": "stderr",
          "text": [
            "DEBUG:cassandra.cluster:Connecting to cluster, contact points: [<SniEndPoint: 40bf567c-d6f1-41f4-acdc-2d55f7a65760-asia-south1.db.astra.datastax.com:29042:7d78e9c1-0951-47e5-ac2c-283fe5fc2d65>, <SniEndPoint: 40bf567c-d6f1-41f4-acdc-2d55f7a65760-asia-south1.db.astra.datastax.com:29042:358ca568-08f7-42a4-8574-b72c6a0af7b7>, <SniEndPoint: 40bf567c-d6f1-41f4-acdc-2d55f7a65760-asia-south1.db.astra.datastax.com:29042:44e57ad8-5416-4b95-85e3-f9e4c0f2a66b>]; protocol version: 66\n",
            "DEBUG:cassandra.pool:Host 40bf567c-d6f1-41f4-acdc-2d55f7a65760-asia-south1.db.astra.datastax.com:29042:7d78e9c1-0951-47e5-ac2c-283fe5fc2d65 is now marked up\n",
            "DEBUG:cassandra.pool:Host 40bf567c-d6f1-41f4-acdc-2d55f7a65760-asia-south1.db.astra.datastax.com:29042:358ca568-08f7-42a4-8574-b72c6a0af7b7 is now marked up\n",
            "DEBUG:cassandra.pool:Host 40bf567c-d6f1-41f4-acdc-2d55f7a65760-asia-south1.db.astra.datastax.com:29042:44e57ad8-5416-4b95-85e3-f9e4c0f2a66b is now marked up\n",
            "DEBUG:cassandra.cluster:[control connection] Opening new connection to 40bf567c-d6f1-41f4-acdc-2d55f7a65760-asia-south1.db.astra.datastax.com:29042:44e57ad8-5416-4b95-85e3-f9e4c0f2a66b\n",
            "DEBUG:cassandra.connection:Sending initial options message for new connection (139897865490768) to 40bf567c-d6f1-41f4-acdc-2d55f7a65760-asia-south1.db.astra.datastax.com:29042:44e57ad8-5416-4b95-85e3-f9e4c0f2a66b\n",
            "DEBUG:cassandra.io.libevreactor:Starting libev event loop\n",
            "DEBUG:cassandra.connection:Defuncting connection (139897865490768) to 40bf567c-d6f1-41f4-acdc-2d55f7a65760-asia-south1.db.astra.datastax.com:29042:44e57ad8-5416-4b95-85e3-f9e4c0f2a66b: <Error from server: code=000a [Protocol error] message=\"Invalid or unsupported protocol version (66); supported versions are (3/v3, 4/v4, 5/v5-beta)\">\n",
            "DEBUG:cassandra.io.libevreactor:Closing connection (139897865490768) to 40bf567c-d6f1-41f4-acdc-2d55f7a65760-asia-south1.db.astra.datastax.com:29042:44e57ad8-5416-4b95-85e3-f9e4c0f2a66b\n",
            "DEBUG:cassandra.io.libevreactor:Closed socket to 40bf567c-d6f1-41f4-acdc-2d55f7a65760-asia-south1.db.astra.datastax.com:29042:44e57ad8-5416-4b95-85e3-f9e4c0f2a66b\n",
            "WARNING:cassandra.cluster:Downgrading core protocol version from 66 to 65 for 40bf567c-d6f1-41f4-acdc-2d55f7a65760-asia-south1.db.astra.datastax.com:29042:44e57ad8-5416-4b95-85e3-f9e4c0f2a66b. To avoid this, it is best practice to explicitly set Cluster(protocol_version) to the version supported by your cluster. http://datastax.github.io/python-driver/api/cassandra/cluster.html#cassandra.cluster.Cluster.protocol_version\n",
            "DEBUG:cassandra.io.libevreactor:All Connections currently closed, event loop ended\n",
            "DEBUG:cassandra.connection:Sending initial options message for new connection (139897877335888) to 40bf567c-d6f1-41f4-acdc-2d55f7a65760-asia-south1.db.astra.datastax.com:29042:44e57ad8-5416-4b95-85e3-f9e4c0f2a66b\n",
            "DEBUG:cassandra.io.libevreactor:Starting libev event loop\n",
            "DEBUG:cassandra.connection:Defuncting connection (139897877335888) to 40bf567c-d6f1-41f4-acdc-2d55f7a65760-asia-south1.db.astra.datastax.com:29042:44e57ad8-5416-4b95-85e3-f9e4c0f2a66b: <Error from server: code=000a [Protocol error] message=\"Invalid or unsupported protocol version (65); supported versions are (3/v3, 4/v4, 5/v5-beta)\">\n",
            "DEBUG:cassandra.io.libevreactor:Closing connection (139897877335888) to 40bf567c-d6f1-41f4-acdc-2d55f7a65760-asia-south1.db.astra.datastax.com:29042:44e57ad8-5416-4b95-85e3-f9e4c0f2a66b\n",
            "DEBUG:cassandra.io.libevreactor:Closed socket to 40bf567c-d6f1-41f4-acdc-2d55f7a65760-asia-south1.db.astra.datastax.com:29042:44e57ad8-5416-4b95-85e3-f9e4c0f2a66b\n",
            "WARNING:cassandra.cluster:Downgrading core protocol version from 65 to 5 for 40bf567c-d6f1-41f4-acdc-2d55f7a65760-asia-south1.db.astra.datastax.com:29042:44e57ad8-5416-4b95-85e3-f9e4c0f2a66b. To avoid this, it is best practice to explicitly set Cluster(protocol_version) to the version supported by your cluster. http://datastax.github.io/python-driver/api/cassandra/cluster.html#cassandra.cluster.Cluster.protocol_version\n",
            "DEBUG:cassandra.io.libevreactor:All Connections currently closed, event loop ended\n",
            "DEBUG:cassandra.connection:Sending initial options message for new connection (139897865088016) to 40bf567c-d6f1-41f4-acdc-2d55f7a65760-asia-south1.db.astra.datastax.com:29042:44e57ad8-5416-4b95-85e3-f9e4c0f2a66b\n",
            "DEBUG:cassandra.io.libevreactor:Starting libev event loop\n",
            "ERROR:cassandra.connection:Closing connection <LibevConnection(139897865088016) 40bf567c-d6f1-41f4-acdc-2d55f7a65760-asia-south1.db.astra.datastax.com:29042:44e57ad8-5416-4b95-85e3-f9e4c0f2a66b> due to protocol error: Error from server: code=000a [Protocol error] message=\"Beta version of the protocol used (5/v5-beta), but USE_BETA flag is unset\"\n",
            "DEBUG:cassandra.connection:Defuncting connection (139897865088016) to 40bf567c-d6f1-41f4-acdc-2d55f7a65760-asia-south1.db.astra.datastax.com:29042:44e57ad8-5416-4b95-85e3-f9e4c0f2a66b: <Error from server: code=000a [Protocol error] message=\"Beta version of the protocol used (5/v5-beta), but USE_BETA flag is unset\">\n",
            "DEBUG:cassandra.io.libevreactor:Closing connection (139897865088016) to 40bf567c-d6f1-41f4-acdc-2d55f7a65760-asia-south1.db.astra.datastax.com:29042:44e57ad8-5416-4b95-85e3-f9e4c0f2a66b\n",
            "DEBUG:cassandra.io.libevreactor:Closed socket to 40bf567c-d6f1-41f4-acdc-2d55f7a65760-asia-south1.db.astra.datastax.com:29042:44e57ad8-5416-4b95-85e3-f9e4c0f2a66b\n",
            "WARNING:cassandra.cluster:Downgrading core protocol version from 5 to 4 for 40bf567c-d6f1-41f4-acdc-2d55f7a65760-asia-south1.db.astra.datastax.com:29042:44e57ad8-5416-4b95-85e3-f9e4c0f2a66b. To avoid this, it is best practice to explicitly set Cluster(protocol_version) to the version supported by your cluster. http://datastax.github.io/python-driver/api/cassandra/cluster.html#cassandra.cluster.Cluster.protocol_version\n",
            "DEBUG:cassandra.io.libevreactor:All Connections currently closed, event loop ended\n",
            "DEBUG:cassandra.connection:Sending initial options message for new connection (139898016731472) to 40bf567c-d6f1-41f4-acdc-2d55f7a65760-asia-south1.db.astra.datastax.com:29042:44e57ad8-5416-4b95-85e3-f9e4c0f2a66b\n",
            "DEBUG:cassandra.io.libevreactor:Starting libev event loop\n",
            "DEBUG:cassandra.connection:Received options response on new connection (139898016731472) from 40bf567c-d6f1-41f4-acdc-2d55f7a65760-asia-south1.db.astra.datastax.com:29042:44e57ad8-5416-4b95-85e3-f9e4c0f2a66b\n",
            "DEBUG:cassandra.connection:No available compression types supported on both ends. locally supported: odict_keys([]). remotely supported: ['snappy', 'lz4']\n",
            "DEBUG:cassandra.connection:Sending StartupMessage on <LibevConnection(139898016731472) 40bf567c-d6f1-41f4-acdc-2d55f7a65760-asia-south1.db.astra.datastax.com:29042:44e57ad8-5416-4b95-85e3-f9e4c0f2a66b>\n",
            "DEBUG:cassandra.connection:Sent StartupMessage on <LibevConnection(139898016731472) 40bf567c-d6f1-41f4-acdc-2d55f7a65760-asia-south1.db.astra.datastax.com:29042:44e57ad8-5416-4b95-85e3-f9e4c0f2a66b>\n",
            "DEBUG:cassandra.connection:Got AuthenticateMessage on new connection (139898016731472) from 40bf567c-d6f1-41f4-acdc-2d55f7a65760-asia-south1.db.astra.datastax.com:29042:44e57ad8-5416-4b95-85e3-f9e4c0f2a66b: org.apache.cassandra.auth.PasswordAuthenticator\n",
            "DEBUG:cassandra.connection:Sending SASL-based auth response on <LibevConnection(139898016731472) 40bf567c-d6f1-41f4-acdc-2d55f7a65760-asia-south1.db.astra.datastax.com:29042:44e57ad8-5416-4b95-85e3-f9e4c0f2a66b>\n",
            "DEBUG:cassandra.connection:Connection <LibevConnection(139898016731472) 40bf567c-d6f1-41f4-acdc-2d55f7a65760-asia-south1.db.astra.datastax.com:29042:44e57ad8-5416-4b95-85e3-f9e4c0f2a66b> successfully authenticated\n",
            "DEBUG:cassandra.cluster:[control connection] Established new connection <LibevConnection(139898016731472) 40bf567c-d6f1-41f4-acdc-2d55f7a65760-asia-south1.db.astra.datastax.com:29042:44e57ad8-5416-4b95-85e3-f9e4c0f2a66b>, registering watchers and refreshing schema and topology\n",
            "DEBUG:cassandra.cluster:[control connection] Refreshing node list and token map using preloaded results\n",
            "INFO:cassandra.policies:Using datacenter 'asia-south1' for DCAwareRoundRobinPolicy (via host '40bf567c-d6f1-41f4-acdc-2d55f7a65760-asia-south1.db.astra.datastax.com:29042:44e57ad8-5416-4b95-85e3-f9e4c0f2a66b'); if incorrect, please specify a local_dc to the constructor, or limit contact points to local cluster nodes\n",
            "DEBUG:cassandra.cluster:[control connection] Finished fetching ring info\n",
            "DEBUG:cassandra.cluster:[control connection] Rebuilding token map due to topology changes\n",
            "DEBUG:cassandra.cluster:Control connection created\n",
            "DEBUG:cassandra.pool:Initializing connection for host 40bf567c-d6f1-41f4-acdc-2d55f7a65760-asia-south1.db.astra.datastax.com:29042:7d78e9c1-0951-47e5-ac2c-283fe5fc2d65\n",
            "DEBUG:cassandra.pool:Initializing connection for host 40bf567c-d6f1-41f4-acdc-2d55f7a65760-asia-south1.db.astra.datastax.com:29042:358ca568-08f7-42a4-8574-b72c6a0af7b7\n",
            "DEBUG:cassandra.connection:Sending initial options message for new connection (139897860256848) to 40bf567c-d6f1-41f4-acdc-2d55f7a65760-asia-south1.db.astra.datastax.com:29042:7d78e9c1-0951-47e5-ac2c-283fe5fc2d65\n",
            "DEBUG:cassandra.connection:Sending initial options message for new connection (139897865134480) to 40bf567c-d6f1-41f4-acdc-2d55f7a65760-asia-south1.db.astra.datastax.com:29042:358ca568-08f7-42a4-8574-b72c6a0af7b7\n",
            "DEBUG:cassandra.connection:Received options response on new connection (139897860256848) from 40bf567c-d6f1-41f4-acdc-2d55f7a65760-asia-south1.db.astra.datastax.com:29042:7d78e9c1-0951-47e5-ac2c-283fe5fc2d65\n",
            "DEBUG:cassandra.connection:No available compression types supported on both ends. locally supported: odict_keys([]). remotely supported: ['snappy', 'lz4']\n",
            "DEBUG:cassandra.connection:Sending StartupMessage on <LibevConnection(139897860256848) 40bf567c-d6f1-41f4-acdc-2d55f7a65760-asia-south1.db.astra.datastax.com:29042:7d78e9c1-0951-47e5-ac2c-283fe5fc2d65>\n",
            "DEBUG:cassandra.connection:Sent StartupMessage on <LibevConnection(139897860256848) 40bf567c-d6f1-41f4-acdc-2d55f7a65760-asia-south1.db.astra.datastax.com:29042:7d78e9c1-0951-47e5-ac2c-283fe5fc2d65>\n",
            "DEBUG:cassandra.connection:Received options response on new connection (139897865134480) from 40bf567c-d6f1-41f4-acdc-2d55f7a65760-asia-south1.db.astra.datastax.com:29042:358ca568-08f7-42a4-8574-b72c6a0af7b7\n",
            "DEBUG:cassandra.connection:No available compression types supported on both ends. locally supported: odict_keys([]). remotely supported: ['snappy', 'lz4']\n",
            "DEBUG:cassandra.connection:Sending StartupMessage on <LibevConnection(139897865134480) 40bf567c-d6f1-41f4-acdc-2d55f7a65760-asia-south1.db.astra.datastax.com:29042:358ca568-08f7-42a4-8574-b72c6a0af7b7>\n",
            "DEBUG:cassandra.connection:Sent StartupMessage on <LibevConnection(139897865134480) 40bf567c-d6f1-41f4-acdc-2d55f7a65760-asia-south1.db.astra.datastax.com:29042:358ca568-08f7-42a4-8574-b72c6a0af7b7>\n",
            "DEBUG:cassandra.connection:Got AuthenticateMessage on new connection (139897860256848) from 40bf567c-d6f1-41f4-acdc-2d55f7a65760-asia-south1.db.astra.datastax.com:29042:7d78e9c1-0951-47e5-ac2c-283fe5fc2d65: org.apache.cassandra.auth.PasswordAuthenticator\n",
            "DEBUG:cassandra.connection:Sending SASL-based auth response on <LibevConnection(139897860256848) 40bf567c-d6f1-41f4-acdc-2d55f7a65760-asia-south1.db.astra.datastax.com:29042:7d78e9c1-0951-47e5-ac2c-283fe5fc2d65>\n",
            "DEBUG:cassandra.connection:Got AuthenticateMessage on new connection (139897865134480) from 40bf567c-d6f1-41f4-acdc-2d55f7a65760-asia-south1.db.astra.datastax.com:29042:358ca568-08f7-42a4-8574-b72c6a0af7b7: org.apache.cassandra.auth.PasswordAuthenticator\n",
            "DEBUG:cassandra.connection:Sending SASL-based auth response on <LibevConnection(139897865134480) 40bf567c-d6f1-41f4-acdc-2d55f7a65760-asia-south1.db.astra.datastax.com:29042:358ca568-08f7-42a4-8574-b72c6a0af7b7>\n",
            "DEBUG:cassandra.connection:Connection <LibevConnection(139897860256848) 40bf567c-d6f1-41f4-acdc-2d55f7a65760-asia-south1.db.astra.datastax.com:29042:7d78e9c1-0951-47e5-ac2c-283fe5fc2d65> successfully authenticated\n",
            "DEBUG:cassandra.pool:Finished initializing connection for host 40bf567c-d6f1-41f4-acdc-2d55f7a65760-asia-south1.db.astra.datastax.com:29042:7d78e9c1-0951-47e5-ac2c-283fe5fc2d65\n",
            "DEBUG:cassandra.cluster:Added pool for host 40bf567c-d6f1-41f4-acdc-2d55f7a65760-asia-south1.db.astra.datastax.com:29042:7d78e9c1-0951-47e5-ac2c-283fe5fc2d65 to session\n",
            "DEBUG:cassandra.pool:Initializing connection for host 40bf567c-d6f1-41f4-acdc-2d55f7a65760-asia-south1.db.astra.datastax.com:29042:44e57ad8-5416-4b95-85e3-f9e4c0f2a66b\n",
            "DEBUG:cassandra.connection:Connection <LibevConnection(139897865134480) 40bf567c-d6f1-41f4-acdc-2d55f7a65760-asia-south1.db.astra.datastax.com:29042:358ca568-08f7-42a4-8574-b72c6a0af7b7> successfully authenticated\n",
            "DEBUG:cassandra.pool:Finished initializing connection for host 40bf567c-d6f1-41f4-acdc-2d55f7a65760-asia-south1.db.astra.datastax.com:29042:358ca568-08f7-42a4-8574-b72c6a0af7b7\n",
            "DEBUG:cassandra.cluster:Added pool for host 40bf567c-d6f1-41f4-acdc-2d55f7a65760-asia-south1.db.astra.datastax.com:29042:358ca568-08f7-42a4-8574-b72c6a0af7b7 to session\n",
            "DEBUG:cassandra.cluster:Not starting MonitorReporter thread for Insights; not supported by server version 4.0.0.6816 on ControlConnection host 40bf567c-d6f1-41f4-acdc-2d55f7a65760-asia-south1.db.astra.datastax.com:29042:44e57ad8-5416-4b95-85e3-f9e4c0f2a66b\n",
            "DEBUG:cassandra.cluster:Started Session with client_id 71827d8a-b6cc-46e0-b5fc-8317fa3e311d and session_id 7972dd56-0133-4078-9c0e-d1fe739088fb\n"
          ]
        }
      ],
      "source": [
        "keyspace = 'german_credit'\n",
        "\n",
        "table_name = 'gcr1'         # Name of the table to be created\n",
        "\n",
        "client_id = 'iQyLbOiYUpxBBjOpKxYMKvnQ'\n",
        "\n",
        "client_secret = '6RXh7D4EW,3KrwO_xGASH0ElpjiLBQYH97SzAgatFMN,EXxYlPWMm96LtB1RIE_fm6bPyClhM74kDtXdBAt3LegqcCdErrU_Jj9OsH9OSW+2J1G+FOG4yop8uim9v0Go'\n",
        "\n",
        "cloud_config = {'secure_connect_bundle':'/content/secure-connect-ineuron-3.zip'}\n",
        "auth_provider = PlainTextAuthProvider(client_id, client_secret)\n",
        "cluster = Cluster(cloud=cloud_config, auth_provider=auth_provider)\n",
        "session = cluster.connect()"
      ]
    },
    {
      "cell_type": "code",
      "source": [
        "logger.info('Database connected..')\n",
        "logger.info('Deletion of existing table started..')"
      ],
      "metadata": {
        "id": "eBj9Z38zWEqR",
        "colab": {
          "base_uri": "https://localhost:8080/"
        },
        "outputId": "2e61405d-aafa-4a7e-c162-a9573d6f335f"
      },
      "execution_count": null,
      "outputs": [
        {
          "output_type": "stream",
          "name": "stderr",
          "text": [
            "INFO:root:Database connected..\n",
            "INFO:root:Deletion of existing table started..\n"
          ]
        }
      ]
    },
    {
      "cell_type": "code",
      "execution_count": null,
      "metadata": {
        "colab": {
          "base_uri": "https://localhost:8080/"
        },
        "id": "0rpRjGpnEqr5",
        "outputId": "b5dcce78-39a3-439e-8468-3f1bca1ba3df"
      },
      "outputs": [
        {
          "output_type": "stream",
          "name": "stderr",
          "text": [
            "DEBUG:cassandra.connection:Sending initial options message for new connection (139897860358800) to 40bf567c-d6f1-41f4-acdc-2d55f7a65760-asia-south1.db.astra.datastax.com:29042:44e57ad8-5416-4b95-85e3-f9e4c0f2a66b\n"
          ]
        },
        {
          "output_type": "execute_result",
          "data": {
            "text/plain": [
              "<cassandra.cluster.ResultSet at 0x7f3c8245d150>"
            ]
          },
          "metadata": {},
          "execution_count": 12
        }
      ],
      "source": [
        "# Delete table if exists\n",
        "session.execute(\"USE {keyspace};\".format(keyspace=keyspace))\n",
        "session.execute(\"DROP TABLE IF EXISTS {table_name};\".format(table_name=table_name))"
      ]
    },
    {
      "cell_type": "code",
      "source": [
        "logger.info('Existing table deleted..')"
      ],
      "metadata": {
        "id": "6iWt7TlhWZ1H",
        "colab": {
          "base_uri": "https://localhost:8080/"
        },
        "outputId": "050a21bc-885d-477a-b459-6f476bec7a8e"
      },
      "execution_count": null,
      "outputs": [
        {
          "output_type": "stream",
          "name": "stderr",
          "text": [
            "INFO:root:Existing table deleted..\n"
          ]
        }
      ]
    },
    {
      "cell_type": "markdown",
      "metadata": {
        "id": "GW0SKTnUqw4R"
      },
      "source": [
        "**Create table**"
      ]
    },
    {
      "cell_type": "code",
      "source": [
        "logger.info('Creating new table..')"
      ],
      "metadata": {
        "id": "Y0KJ27QRWhHM",
        "colab": {
          "base_uri": "https://localhost:8080/"
        },
        "outputId": "b1a5a602-4d56-45dd-a567-d157a669303c"
      },
      "execution_count": null,
      "outputs": [
        {
          "output_type": "stream",
          "name": "stderr",
          "text": [
            "INFO:root:Creating new table..\n"
          ]
        }
      ]
    },
    {
      "cell_type": "code",
      "execution_count": null,
      "metadata": {
        "colab": {
          "base_uri": "https://localhost:8080/"
        },
        "id": "GFeF8FrnXAdy",
        "outputId": "7491db03-cf5d-4da1-8486-cbc5bea3d7fa"
      },
      "outputs": [
        {
          "output_type": "stream",
          "name": "stderr",
          "text": [
            "DEBUG:cassandra.connection:Received options response on new connection (139897860358800) from 40bf567c-d6f1-41f4-acdc-2d55f7a65760-asia-south1.db.astra.datastax.com:29042:44e57ad8-5416-4b95-85e3-f9e4c0f2a66b\n",
            "DEBUG:cassandra.connection:No available compression types supported on both ends. locally supported: odict_keys([]). remotely supported: ['snappy', 'lz4']\n",
            "DEBUG:cassandra.connection:Sending StartupMessage on <LibevConnection(139897860358800) 40bf567c-d6f1-41f4-acdc-2d55f7a65760-asia-south1.db.astra.datastax.com:29042:44e57ad8-5416-4b95-85e3-f9e4c0f2a66b>\n",
            "DEBUG:cassandra.connection:Sent StartupMessage on <LibevConnection(139897860358800) 40bf567c-d6f1-41f4-acdc-2d55f7a65760-asia-south1.db.astra.datastax.com:29042:44e57ad8-5416-4b95-85e3-f9e4c0f2a66b>\n",
            "DEBUG:cassandra.connection:Got AuthenticateMessage on new connection (139897860358800) from 40bf567c-d6f1-41f4-acdc-2d55f7a65760-asia-south1.db.astra.datastax.com:29042:44e57ad8-5416-4b95-85e3-f9e4c0f2a66b: org.apache.cassandra.auth.PasswordAuthenticator\n",
            "DEBUG:cassandra.connection:Sending SASL-based auth response on <LibevConnection(139897860358800) 40bf567c-d6f1-41f4-acdc-2d55f7a65760-asia-south1.db.astra.datastax.com:29042:44e57ad8-5416-4b95-85e3-f9e4c0f2a66b>\n",
            "DEBUG:cassandra.connection:Message pushed from server: <EventMessage(event_type='SCHEMA_CHANGE', event_args={'target_type': 'TABLE', 'change_type': 'CREATED', 'keyspace': 'german_credit', 'table': 'gcr1'}, stream_id=-1, trace_id=None)>\n",
            "DEBUG:cassandra.connection:Connection <LibevConnection(139897860358800) 40bf567c-d6f1-41f4-acdc-2d55f7a65760-asia-south1.db.astra.datastax.com:29042:44e57ad8-5416-4b95-85e3-f9e4c0f2a66b> successfully authenticated\n",
            "DEBUG:cassandra.pool:Finished initializing connection for host 40bf567c-d6f1-41f4-acdc-2d55f7a65760-asia-south1.db.astra.datastax.com:29042:44e57ad8-5416-4b95-85e3-f9e4c0f2a66b\n",
            "DEBUG:cassandra.cluster:Added pool for host 40bf567c-d6f1-41f4-acdc-2d55f7a65760-asia-south1.db.astra.datastax.com:29042:44e57ad8-5416-4b95-85e3-f9e4c0f2a66b to session\n",
            "DEBUG:cassandra.cluster:Refreshing schema in response to schema change. {'target_type': 'TABLE', 'change_type': 'CREATED', 'keyspace': 'german_credit', 'table': 'gcr1'}\n",
            "DEBUG:cassandra.cluster:[control connection] Waiting for schema agreement\n",
            "DEBUG:cassandra.cluster:[control connection] Schemas match\n",
            "DEBUG:cassandra.cluster:[control connection] Waiting for schema agreement\n"
          ]
        },
        {
          "output_type": "execute_result",
          "data": {
            "text/plain": [
              "<cassandra.cluster.ResultSet at 0x7f3c8292ee50>"
            ]
          },
          "metadata": {},
          "execution_count": 15
        },
        {
          "output_type": "stream",
          "name": "stderr",
          "text": [
            "DEBUG:cassandra.cluster:[control connection] Schemas match\n"
          ]
        }
      ],
      "source": [
        "# Create a table\n",
        "session.execute(\"USE {keyspace};\".format(keyspace=keyspace))\n",
        "\n",
        "session.execute(\n",
        "  \"CREATE TABLE {table_name}(ID int PRIMARY KEY, status int, duration int,credit_history int,purpose int,\"\n",
        "  \"amount int,savings int,employment_duration int,installment_rate int,personal_status_sex int,\"\n",
        "  \"other_debtors int,present_residence int,property int, age int, other_installment_plans int,\"\n",
        "  \"housing int, number_credits int, job int, people_liable int, telephone int,foreign_worker int,\"\n",
        "  \"credit_risk int);\".format(table_name=table_name))"
      ]
    },
    {
      "cell_type": "code",
      "source": [
        "logger.info('New table created..')"
      ],
      "metadata": {
        "id": "JzdwRpN-WpOu",
        "colab": {
          "base_uri": "https://localhost:8080/"
        },
        "outputId": "e4ff4b08-73ed-428f-b724-e37288ed480c"
      },
      "execution_count": null,
      "outputs": [
        {
          "output_type": "stream",
          "name": "stderr",
          "text": [
            "INFO:root:New table created..\n"
          ]
        }
      ]
    },
    {
      "cell_type": "markdown",
      "source": [
        "**Insert data to table from csv file**"
      ],
      "metadata": {
        "id": "s76otaNJDYjo"
      }
    },
    {
      "cell_type": "code",
      "source": [
        "logger.info('Inserting data..')"
      ],
      "metadata": {
        "id": "eMUFr3fSWv1o",
        "colab": {
          "base_uri": "https://localhost:8080/"
        },
        "outputId": "ab072b09-4931-4484-988c-d79e007b9646"
      },
      "execution_count": null,
      "outputs": [
        {
          "output_type": "stream",
          "name": "stderr",
          "text": [
            "INFO:root:Inserting data..\n"
          ]
        }
      ]
    },
    {
      "cell_type": "code",
      "execution_count": null,
      "metadata": {
        "colab": {
          "base_uri": "https://localhost:8080/"
        },
        "id": "CUQbuL_kFbDn",
        "outputId": "1ff87fb5-875a-4051-ec76-6466ed59150b"
      },
      "outputs": [
        {
          "output_type": "stream",
          "name": "stderr",
          "text": [
            "DEBUG:cassandra.connection:Sending options message heartbeat on idle connection (139898016731472) 40bf567c-d6f1-41f4-acdc-2d55f7a65760-asia-south1.db.astra.datastax.com:29042:44e57ad8-5416-4b95-85e3-f9e4c0f2a66b\n",
            "DEBUG:cassandra.connection:Received options response on connection (139898016731472) from 40bf567c-d6f1-41f4-acdc-2d55f7a65760-asia-south1.db.astra.datastax.com:29042:44e57ad8-5416-4b95-85e3-f9e4c0f2a66b\n",
            "DEBUG:cassandra.connection:Sending options message heartbeat on idle connection (139898016731472) 40bf567c-d6f1-41f4-acdc-2d55f7a65760-asia-south1.db.astra.datastax.com:29042:44e57ad8-5416-4b95-85e3-f9e4c0f2a66b\n",
            "DEBUG:cassandra.connection:Received options response on connection (139898016731472) from 40bf567c-d6f1-41f4-acdc-2d55f7a65760-asia-south1.db.astra.datastax.com:29042:44e57ad8-5416-4b95-85e3-f9e4c0f2a66b\n",
            "DEBUG:cassandra.connection:Sending options message heartbeat on idle connection (139898016731472) 40bf567c-d6f1-41f4-acdc-2d55f7a65760-asia-south1.db.astra.datastax.com:29042:44e57ad8-5416-4b95-85e3-f9e4c0f2a66b\n",
            "DEBUG:cassandra.connection:Received options response on connection (139898016731472) from 40bf567c-d6f1-41f4-acdc-2d55f7a65760-asia-south1.db.astra.datastax.com:29042:44e57ad8-5416-4b95-85e3-f9e4c0f2a66b\n",
            "DEBUG:cassandra.connection:Sending options message heartbeat on idle connection (139898016731472) 40bf567c-d6f1-41f4-acdc-2d55f7a65760-asia-south1.db.astra.datastax.com:29042:44e57ad8-5416-4b95-85e3-f9e4c0f2a66b\n",
            "DEBUG:cassandra.connection:Received options response on connection (139898016731472) from 40bf567c-d6f1-41f4-acdc-2d55f7a65760-asia-south1.db.astra.datastax.com:29042:44e57ad8-5416-4b95-85e3-f9e4c0f2a66b\n",
            "DEBUG:cassandra.connection:Sending options message heartbeat on idle connection (139898016731472) 40bf567c-d6f1-41f4-acdc-2d55f7a65760-asia-south1.db.astra.datastax.com:29042:44e57ad8-5416-4b95-85e3-f9e4c0f2a66b\n",
            "DEBUG:cassandra.connection:Received options response on connection (139898016731472) from 40bf567c-d6f1-41f4-acdc-2d55f7a65760-asia-south1.db.astra.datastax.com:29042:44e57ad8-5416-4b95-85e3-f9e4c0f2a66b\n",
            "DEBUG:cassandra.connection:Sending options message heartbeat on idle connection (139898016731472) 40bf567c-d6f1-41f4-acdc-2d55f7a65760-asia-south1.db.astra.datastax.com:29042:44e57ad8-5416-4b95-85e3-f9e4c0f2a66b\n",
            "DEBUG:cassandra.connection:Received options response on connection (139898016731472) from 40bf567c-d6f1-41f4-acdc-2d55f7a65760-asia-south1.db.astra.datastax.com:29042:44e57ad8-5416-4b95-85e3-f9e4c0f2a66b\n",
            "DEBUG:cassandra.connection:Sending options message heartbeat on idle connection (139898016731472) 40bf567c-d6f1-41f4-acdc-2d55f7a65760-asia-south1.db.astra.datastax.com:29042:44e57ad8-5416-4b95-85e3-f9e4c0f2a66b\n",
            "DEBUG:cassandra.connection:Received options response on connection (139898016731472) from 40bf567c-d6f1-41f4-acdc-2d55f7a65760-asia-south1.db.astra.datastax.com:29042:44e57ad8-5416-4b95-85e3-f9e4c0f2a66b\n",
            "DEBUG:cassandra.connection:Sending options message heartbeat on idle connection (139898016731472) 40bf567c-d6f1-41f4-acdc-2d55f7a65760-asia-south1.db.astra.datastax.com:29042:44e57ad8-5416-4b95-85e3-f9e4c0f2a66b\n",
            "DEBUG:cassandra.connection:Received options response on connection (139898016731472) from 40bf567c-d6f1-41f4-acdc-2d55f7a65760-asia-south1.db.astra.datastax.com:29042:44e57ad8-5416-4b95-85e3-f9e4c0f2a66b\n",
            "DEBUG:cassandra.connection:Sending options message heartbeat on idle connection (139898016731472) 40bf567c-d6f1-41f4-acdc-2d55f7a65760-asia-south1.db.astra.datastax.com:29042:44e57ad8-5416-4b95-85e3-f9e4c0f2a66b\n",
            "DEBUG:cassandra.connection:Received options response on connection (139898016731472) from 40bf567c-d6f1-41f4-acdc-2d55f7a65760-asia-south1.db.astra.datastax.com:29042:44e57ad8-5416-4b95-85e3-f9e4c0f2a66b\n",
            "DEBUG:cassandra.connection:Sending options message heartbeat on idle connection (139898016731472) 40bf567c-d6f1-41f4-acdc-2d55f7a65760-asia-south1.db.astra.datastax.com:29042:44e57ad8-5416-4b95-85e3-f9e4c0f2a66b\n",
            "DEBUG:cassandra.connection:Received options response on connection (139898016731472) from 40bf567c-d6f1-41f4-acdc-2d55f7a65760-asia-south1.db.astra.datastax.com:29042:44e57ad8-5416-4b95-85e3-f9e4c0f2a66b\n",
            "DEBUG:cassandra.connection:Sending options message heartbeat on idle connection (139898016731472) 40bf567c-d6f1-41f4-acdc-2d55f7a65760-asia-south1.db.astra.datastax.com:29042:44e57ad8-5416-4b95-85e3-f9e4c0f2a66b\n",
            "DEBUG:cassandra.connection:Received options response on connection (139898016731472) from 40bf567c-d6f1-41f4-acdc-2d55f7a65760-asia-south1.db.astra.datastax.com:29042:44e57ad8-5416-4b95-85e3-f9e4c0f2a66b\n",
            "DEBUG:cassandra.connection:Sending options message heartbeat on idle connection (139898016731472) 40bf567c-d6f1-41f4-acdc-2d55f7a65760-asia-south1.db.astra.datastax.com:29042:44e57ad8-5416-4b95-85e3-f9e4c0f2a66b\n",
            "DEBUG:cassandra.connection:Received options response on connection (139898016731472) from 40bf567c-d6f1-41f4-acdc-2d55f7a65760-asia-south1.db.astra.datastax.com:29042:44e57ad8-5416-4b95-85e3-f9e4c0f2a66b\n",
            "DEBUG:cassandra.connection:Sending options message heartbeat on idle connection (139898016731472) 40bf567c-d6f1-41f4-acdc-2d55f7a65760-asia-south1.db.astra.datastax.com:29042:44e57ad8-5416-4b95-85e3-f9e4c0f2a66b\n",
            "DEBUG:cassandra.connection:Received options response on connection (139898016731472) from 40bf567c-d6f1-41f4-acdc-2d55f7a65760-asia-south1.db.astra.datastax.com:29042:44e57ad8-5416-4b95-85e3-f9e4c0f2a66b\n",
            "DEBUG:cassandra.connection:Sending options message heartbeat on idle connection (139898016731472) 40bf567c-d6f1-41f4-acdc-2d55f7a65760-asia-south1.db.astra.datastax.com:29042:44e57ad8-5416-4b95-85e3-f9e4c0f2a66b\n",
            "DEBUG:cassandra.connection:Received options response on connection (139898016731472) from 40bf567c-d6f1-41f4-acdc-2d55f7a65760-asia-south1.db.astra.datastax.com:29042:44e57ad8-5416-4b95-85e3-f9e4c0f2a66b\n"
          ]
        }
      ],
      "source": [
        "# Insert data into table\n",
        "file = \"/content/German_credit_2.csv\"\n",
        "with open(file, mode='r') as f:\n",
        "  next(f)\n",
        "\n",
        "  reader = csv.reader(f)\n",
        "  for i in reader:\n",
        "\n",
        "      data = ','.join([value for value in i[:-1]])\n",
        "      session.execute(\"USE {keyspace};\".format(keyspace=keyspace))\n",
        "\n",
        "      session.execute(\n",
        "         \"INSERT INTO {table_name} (ID, status,duration,credit_history,purpose,amount,savings,\"\n",
        "         \"employment_duration,installment_rate,personal_status_sex,other_debtors,present_residence,\"\n",
        "         \"property,age,other_installment_plans,housing,number_credits,job,people_liable,telephone,\"\n",
        "         \"foreign_worker,credit_risk) VALUES ({data});\".format(table_name=table_name, data=data))\n"
      ]
    },
    {
      "cell_type": "code",
      "source": [
        "logger.info('Data insertion completed.')"
      ],
      "metadata": {
        "id": "_CV7zB6EW5jv",
        "colab": {
          "base_uri": "https://localhost:8080/"
        },
        "outputId": "a38f9d04-33c8-4aff-8b90-bd893d76cbf3"
      },
      "execution_count": null,
      "outputs": [
        {
          "output_type": "stream",
          "name": "stderr",
          "text": [
            "INFO:root:Data insertion completed.\n"
          ]
        }
      ]
    }
  ],
  "metadata": {
    "colab": {
      "provenance": [],
      "authorship_tag": "ABX9TyOap2Ll+vdGSFpmOn4I3iVC"
    },
    "kernelspec": {
      "display_name": "Python 3",
      "name": "python3"
    },
    "language_info": {
      "name": "python"
    }
  },
  "nbformat": 4,
  "nbformat_minor": 0
}