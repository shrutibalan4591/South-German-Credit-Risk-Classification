{
  "cells": [
    {
      "cell_type": "markdown",
      "metadata": {
        "id": "w1xdOHx8HSTW"
      },
      "source": [
        "# **Install necessary packages**"
      ]
    },
    {
      "cell_type": "code",
      "execution_count": 1,
      "metadata": {
        "colab": {
          "base_uri": "https://localhost:8080/"
        },
        "id": "sY60flHmHpBd",
        "outputId": "881a0446-29ec-4ee2-e4a7-e0cc805a3fe8"
      },
      "outputs": [
        {
          "output_type": "stream",
          "name": "stdout",
          "text": [
            "Looking in indexes: https://pypi.org/simple, https://us-python.pkg.dev/colab-wheels/public/simple/\n",
            "Collecting cassandra-driver\n",
            "  Downloading cassandra_driver-3.25.0-cp37-cp37m-manylinux1_x86_64.whl (3.8 MB)\n",
            "\u001b[K     |████████████████████████████████| 3.8 MB 25.5 MB/s \n",
            "\u001b[?25hRequirement already satisfied: six>=1.9 in /usr/local/lib/python3.7/dist-packages (from cassandra-driver) (1.15.0)\n",
            "Collecting geomet<0.3,>=0.1\n",
            "  Downloading geomet-0.2.1.post1-py3-none-any.whl (18 kB)\n",
            "Requirement already satisfied: click in /usr/local/lib/python3.7/dist-packages (from geomet<0.3,>=0.1->cassandra-driver) (7.1.2)\n",
            "Installing collected packages: geomet, cassandra-driver\n",
            "Successfully installed cassandra-driver-3.25.0 geomet-0.2.1.post1\n",
            "cassandra driver version = 3.25.0\n"
          ]
        }
      ],
      "source": [
        "!pip install cassandra-driver\n",
        "!python -c 'import cassandra; print (\"cassandra driver version = \" + cassandra.__version__)'"
      ]
    },
    {
      "cell_type": "markdown",
      "metadata": {
        "id": "aKM32ycQ6i8t"
      },
      "source": [
        "# **Import Libraries and Dataset**"
      ]
    },
    {
      "cell_type": "code",
      "source": [
        "# Log file created here\n",
        "import logging\n",
        "\n",
        "logger = logging.getLogger()\n",
        "\n",
        "file_handler = logging.FileHandler(filename='scr_fem_log.log', mode='w')\n",
        "formatter = logging.Formatter('%(asctime)s - %(name)s - %(levelname)s - %(message)s')\n",
        "file_handler.setFormatter(formatter)\n",
        "logger.addHandler(file_handler)\n",
        "\n",
        "logger.setLevel(logging.DEBUG)\n",
        "logger.info('FILE STARTS RUNNING!')"
      ],
      "metadata": {
        "id": "758-zuQYc0dJ",
        "colab": {
          "base_uri": "https://localhost:8080/"
        },
        "outputId": "8ad2eea2-678a-4448-feb9-05b85c37e6ef"
      },
      "execution_count": 1,
      "outputs": [
        {
          "output_type": "stream",
          "name": "stderr",
          "text": [
            "INFO:root:FILE STARTS RUNNING!\n"
          ]
        }
      ]
    },
    {
      "cell_type": "code",
      "execution_count": 2,
      "metadata": {
        "id": "7hhrDx9gy-ze",
        "colab": {
          "base_uri": "https://localhost:8080/"
        },
        "outputId": "2ef79470-b14f-4b93-94b1-44724c1bf78b"
      },
      "outputs": [
        {
          "output_type": "stream",
          "name": "stderr",
          "text": [
            "INFO:numexpr.utils:NumExpr defaulting to 2 threads.\n"
          ]
        }
      ],
      "source": [
        "import cassandra\n",
        "from cassandra.cluster import Cluster\n",
        "from cassandra.auth import PlainTextAuthProvider\n",
        "import os\n",
        "import csv\n",
        "import sys\n",
        "\n",
        "import pandas as pd\n",
        "import numpy as np\n",
        "from sklearn.model_selection import RandomizedSearchCV, GridSearchCV\n",
        "\n",
        "from sklearn.preprocessing import StandardScaler\n",
        "\n",
        "import warnings\n",
        "warnings.filterwarnings('ignore')"
      ]
    },
    {
      "cell_type": "code",
      "source": [
        "logger.info('Libraries imported..')"
      ],
      "metadata": {
        "id": "KIvvuNwCc8FF",
        "colab": {
          "base_uri": "https://localhost:8080/"
        },
        "outputId": "0a2cc447-3207-4e93-ba06-75fb0ec90b63"
      },
      "execution_count": 3,
      "outputs": [
        {
          "output_type": "stream",
          "name": "stderr",
          "text": [
            "INFO:root:Libraries imported..\n"
          ]
        }
      ]
    },
    {
      "cell_type": "markdown",
      "metadata": {
        "id": "zbZrNMU4IEsm"
      },
      "source": [
        "**Connect to Cassandra database**"
      ]
    },
    {
      "cell_type": "code",
      "source": [
        "logger.info('Connecting to database..')"
      ],
      "metadata": {
        "id": "rGqZgfaJfxfj",
        "colab": {
          "base_uri": "https://localhost:8080/"
        },
        "outputId": "921a0519-bf9d-4b3c-98a9-c32445fc26af"
      },
      "execution_count": 4,
      "outputs": [
        {
          "output_type": "stream",
          "name": "stderr",
          "text": [
            "INFO:root:Connecting to database..\n"
          ]
        }
      ]
    },
    {
      "cell_type": "code",
      "execution_count": 5,
      "metadata": {
        "id": "HMZVkgWeIKSE"
      },
      "outputs": [],
      "source": [
        "ASTRA_DB_TOKEN=\"AstraCS:iQyLbOiYUpxBBjOpKxYMKvnQ\"\n",
        "ASTRA_DB_SECURE_BUNDLE_LOCATION=\"/content/secure-connect-ineuron-3.zip\"\n",
        "\n",
        "!env | grep ASTRA"
      ]
    },
    {
      "cell_type": "code",
      "execution_count": 6,
      "metadata": {
        "id": "Y_BgGL26Ivnj"
      },
      "outputs": [],
      "source": [
        "username = \"token\"\n",
        "token = ASTRA_DB_TOKEN\n",
        "secureBundleLocation = ASTRA_DB_SECURE_BUNDLE_LOCATION"
      ]
    },
    {
      "cell_type": "code",
      "execution_count": 7,
      "metadata": {
        "colab": {
          "base_uri": "https://localhost:8080/"
        },
        "id": "FzzpYetfI2RL",
        "outputId": "ba45561a-afd9-4eea-c6b6-4746da887ae9"
      },
      "outputs": [
        {
          "output_type": "stream",
          "name": "stderr",
          "text": [
            "DEBUG:cassandra.cluster:Connecting to cluster, contact points: [<SniEndPoint: 40bf567c-d6f1-41f4-acdc-2d55f7a65760-asia-south1.db.astra.datastax.com:29042:7d78e9c1-0951-47e5-ac2c-283fe5fc2d65>, <SniEndPoint: 40bf567c-d6f1-41f4-acdc-2d55f7a65760-asia-south1.db.astra.datastax.com:29042:358ca568-08f7-42a4-8574-b72c6a0af7b7>, <SniEndPoint: 40bf567c-d6f1-41f4-acdc-2d55f7a65760-asia-south1.db.astra.datastax.com:29042:44e57ad8-5416-4b95-85e3-f9e4c0f2a66b>]; protocol version: 66\n",
            "DEBUG:cassandra.pool:Host 40bf567c-d6f1-41f4-acdc-2d55f7a65760-asia-south1.db.astra.datastax.com:29042:7d78e9c1-0951-47e5-ac2c-283fe5fc2d65 is now marked up\n",
            "DEBUG:cassandra.pool:Host 40bf567c-d6f1-41f4-acdc-2d55f7a65760-asia-south1.db.astra.datastax.com:29042:358ca568-08f7-42a4-8574-b72c6a0af7b7 is now marked up\n",
            "DEBUG:cassandra.pool:Host 40bf567c-d6f1-41f4-acdc-2d55f7a65760-asia-south1.db.astra.datastax.com:29042:44e57ad8-5416-4b95-85e3-f9e4c0f2a66b is now marked up\n",
            "DEBUG:cassandra.cluster:[control connection] Opening new connection to 40bf567c-d6f1-41f4-acdc-2d55f7a65760-asia-south1.db.astra.datastax.com:29042:358ca568-08f7-42a4-8574-b72c6a0af7b7\n",
            "DEBUG:cassandra.connection:Sending initial options message for new connection (140578365953104) to 40bf567c-d6f1-41f4-acdc-2d55f7a65760-asia-south1.db.astra.datastax.com:29042:358ca568-08f7-42a4-8574-b72c6a0af7b7\n",
            "DEBUG:cassandra.io.libevreactor:Starting libev event loop\n",
            "DEBUG:cassandra.connection:Defuncting connection (140578365953104) to 40bf567c-d6f1-41f4-acdc-2d55f7a65760-asia-south1.db.astra.datastax.com:29042:358ca568-08f7-42a4-8574-b72c6a0af7b7: <Error from server: code=000a [Protocol error] message=\"Invalid or unsupported protocol version (66); supported versions are (3/v3, 4/v4, 5/v5-beta)\">\n",
            "DEBUG:cassandra.io.libevreactor:Closing connection (140578365953104) to 40bf567c-d6f1-41f4-acdc-2d55f7a65760-asia-south1.db.astra.datastax.com:29042:358ca568-08f7-42a4-8574-b72c6a0af7b7\n",
            "DEBUG:cassandra.io.libevreactor:Closed socket to 40bf567c-d6f1-41f4-acdc-2d55f7a65760-asia-south1.db.astra.datastax.com:29042:358ca568-08f7-42a4-8574-b72c6a0af7b7\n",
            "DEBUG:cassandra.io.libevreactor:All Connections currently closed, event loop ended\n",
            "WARNING:cassandra.cluster:Downgrading core protocol version from 66 to 65 for 40bf567c-d6f1-41f4-acdc-2d55f7a65760-asia-south1.db.astra.datastax.com:29042:358ca568-08f7-42a4-8574-b72c6a0af7b7. To avoid this, it is best practice to explicitly set Cluster(protocol_version) to the version supported by your cluster. http://datastax.github.io/python-driver/api/cassandra/cluster.html#cassandra.cluster.Cluster.protocol_version\n",
            "DEBUG:cassandra.connection:Sending initial options message for new connection (140578365953104) to 40bf567c-d6f1-41f4-acdc-2d55f7a65760-asia-south1.db.astra.datastax.com:29042:358ca568-08f7-42a4-8574-b72c6a0af7b7\n",
            "DEBUG:cassandra.io.libevreactor:Starting libev event loop\n",
            "DEBUG:cassandra.connection:Defuncting connection (140578365953104) to 40bf567c-d6f1-41f4-acdc-2d55f7a65760-asia-south1.db.astra.datastax.com:29042:358ca568-08f7-42a4-8574-b72c6a0af7b7: <Error from server: code=000a [Protocol error] message=\"Invalid or unsupported protocol version (65); supported versions are (3/v3, 4/v4, 5/v5-beta)\">\n",
            "DEBUG:cassandra.io.libevreactor:Closing connection (140578365953104) to 40bf567c-d6f1-41f4-acdc-2d55f7a65760-asia-south1.db.astra.datastax.com:29042:358ca568-08f7-42a4-8574-b72c6a0af7b7\n",
            "DEBUG:cassandra.io.libevreactor:Closed socket to 40bf567c-d6f1-41f4-acdc-2d55f7a65760-asia-south1.db.astra.datastax.com:29042:358ca568-08f7-42a4-8574-b72c6a0af7b7\n",
            "WARNING:cassandra.cluster:Downgrading core protocol version from 65 to 5 for 40bf567c-d6f1-41f4-acdc-2d55f7a65760-asia-south1.db.astra.datastax.com:29042:358ca568-08f7-42a4-8574-b72c6a0af7b7. To avoid this, it is best practice to explicitly set Cluster(protocol_version) to the version supported by your cluster. http://datastax.github.io/python-driver/api/cassandra/cluster.html#cassandra.cluster.Cluster.protocol_version\n",
            "DEBUG:cassandra.io.libevreactor:All Connections currently closed, event loop ended\n",
            "DEBUG:cassandra.connection:Sending initial options message for new connection (140578366033104) to 40bf567c-d6f1-41f4-acdc-2d55f7a65760-asia-south1.db.astra.datastax.com:29042:358ca568-08f7-42a4-8574-b72c6a0af7b7\n",
            "DEBUG:cassandra.io.libevreactor:Starting libev event loop\n",
            "ERROR:cassandra.connection:Closing connection <LibevConnection(140578366033104) 40bf567c-d6f1-41f4-acdc-2d55f7a65760-asia-south1.db.astra.datastax.com:29042:358ca568-08f7-42a4-8574-b72c6a0af7b7> due to protocol error: Error from server: code=000a [Protocol error] message=\"Beta version of the protocol used (5/v5-beta), but USE_BETA flag is unset\"\n",
            "DEBUG:cassandra.connection:Defuncting connection (140578366033104) to 40bf567c-d6f1-41f4-acdc-2d55f7a65760-asia-south1.db.astra.datastax.com:29042:358ca568-08f7-42a4-8574-b72c6a0af7b7: <Error from server: code=000a [Protocol error] message=\"Beta version of the protocol used (5/v5-beta), but USE_BETA flag is unset\">\n",
            "DEBUG:cassandra.io.libevreactor:Closing connection (140578366033104) to 40bf567c-d6f1-41f4-acdc-2d55f7a65760-asia-south1.db.astra.datastax.com:29042:358ca568-08f7-42a4-8574-b72c6a0af7b7\n",
            "DEBUG:cassandra.io.libevreactor:Closed socket to 40bf567c-d6f1-41f4-acdc-2d55f7a65760-asia-south1.db.astra.datastax.com:29042:358ca568-08f7-42a4-8574-b72c6a0af7b7\n",
            "WARNING:cassandra.cluster:Downgrading core protocol version from 5 to 4 for 40bf567c-d6f1-41f4-acdc-2d55f7a65760-asia-south1.db.astra.datastax.com:29042:358ca568-08f7-42a4-8574-b72c6a0af7b7. To avoid this, it is best practice to explicitly set Cluster(protocol_version) to the version supported by your cluster. http://datastax.github.io/python-driver/api/cassandra/cluster.html#cassandra.cluster.Cluster.protocol_version\n",
            "DEBUG:cassandra.io.libevreactor:All Connections currently closed, event loop ended\n",
            "DEBUG:cassandra.connection:Sending initial options message for new connection (140578366033104) to 40bf567c-d6f1-41f4-acdc-2d55f7a65760-asia-south1.db.astra.datastax.com:29042:358ca568-08f7-42a4-8574-b72c6a0af7b7\n",
            "DEBUG:cassandra.io.libevreactor:Starting libev event loop\n",
            "DEBUG:cassandra.connection:Received options response on new connection (140578366033104) from 40bf567c-d6f1-41f4-acdc-2d55f7a65760-asia-south1.db.astra.datastax.com:29042:358ca568-08f7-42a4-8574-b72c6a0af7b7\n",
            "DEBUG:cassandra.connection:No available compression types supported on both ends. locally supported: odict_keys([]). remotely supported: ['snappy', 'lz4']\n",
            "DEBUG:cassandra.connection:Sending StartupMessage on <LibevConnection(140578366033104) 40bf567c-d6f1-41f4-acdc-2d55f7a65760-asia-south1.db.astra.datastax.com:29042:358ca568-08f7-42a4-8574-b72c6a0af7b7>\n",
            "DEBUG:cassandra.connection:Sent StartupMessage on <LibevConnection(140578366033104) 40bf567c-d6f1-41f4-acdc-2d55f7a65760-asia-south1.db.astra.datastax.com:29042:358ca568-08f7-42a4-8574-b72c6a0af7b7>\n",
            "DEBUG:cassandra.connection:Got AuthenticateMessage on new connection (140578366033104) from 40bf567c-d6f1-41f4-acdc-2d55f7a65760-asia-south1.db.astra.datastax.com:29042:358ca568-08f7-42a4-8574-b72c6a0af7b7: org.apache.cassandra.auth.PasswordAuthenticator\n",
            "DEBUG:cassandra.connection:Sending SASL-based auth response on <LibevConnection(140578366033104) 40bf567c-d6f1-41f4-acdc-2d55f7a65760-asia-south1.db.astra.datastax.com:29042:358ca568-08f7-42a4-8574-b72c6a0af7b7>\n",
            "DEBUG:cassandra.connection:Connection <LibevConnection(140578366033104) 40bf567c-d6f1-41f4-acdc-2d55f7a65760-asia-south1.db.astra.datastax.com:29042:358ca568-08f7-42a4-8574-b72c6a0af7b7> successfully authenticated\n",
            "DEBUG:cassandra.cluster:[control connection] Established new connection <LibevConnection(140578366033104) 40bf567c-d6f1-41f4-acdc-2d55f7a65760-asia-south1.db.astra.datastax.com:29042:358ca568-08f7-42a4-8574-b72c6a0af7b7>, registering watchers and refreshing schema and topology\n",
            "DEBUG:cassandra.cluster:[control connection] Refreshing node list and token map using preloaded results\n",
            "INFO:cassandra.policies:Using datacenter 'asia-south1' for DCAwareRoundRobinPolicy (via host '40bf567c-d6f1-41f4-acdc-2d55f7a65760-asia-south1.db.astra.datastax.com:29042:358ca568-08f7-42a4-8574-b72c6a0af7b7'); if incorrect, please specify a local_dc to the constructor, or limit contact points to local cluster nodes\n",
            "DEBUG:cassandra.cluster:[control connection] Finished fetching ring info\n",
            "DEBUG:cassandra.cluster:[control connection] Rebuilding token map due to topology changes\n",
            "DEBUG:cassandra.cluster:Control connection created\n",
            "DEBUG:cassandra.pool:Initializing connection for host 40bf567c-d6f1-41f4-acdc-2d55f7a65760-asia-south1.db.astra.datastax.com:29042:7d78e9c1-0951-47e5-ac2c-283fe5fc2d65\n",
            "DEBUG:cassandra.pool:Initializing connection for host 40bf567c-d6f1-41f4-acdc-2d55f7a65760-asia-south1.db.astra.datastax.com:29042:358ca568-08f7-42a4-8574-b72c6a0af7b7\n",
            "DEBUG:cassandra.connection:Sending initial options message for new connection (140578352526864) to 40bf567c-d6f1-41f4-acdc-2d55f7a65760-asia-south1.db.astra.datastax.com:29042:7d78e9c1-0951-47e5-ac2c-283fe5fc2d65\n",
            "DEBUG:cassandra.connection:Sending initial options message for new connection (140578352391184) to 40bf567c-d6f1-41f4-acdc-2d55f7a65760-asia-south1.db.astra.datastax.com:29042:358ca568-08f7-42a4-8574-b72c6a0af7b7\n",
            "DEBUG:cassandra.connection:Received options response on new connection (140578352526864) from 40bf567c-d6f1-41f4-acdc-2d55f7a65760-asia-south1.db.astra.datastax.com:29042:7d78e9c1-0951-47e5-ac2c-283fe5fc2d65\n",
            "DEBUG:cassandra.connection:No available compression types supported on both ends. locally supported: odict_keys([]). remotely supported: ['snappy', 'lz4']\n",
            "DEBUG:cassandra.connection:Sending StartupMessage on <LibevConnection(140578352526864) 40bf567c-d6f1-41f4-acdc-2d55f7a65760-asia-south1.db.astra.datastax.com:29042:7d78e9c1-0951-47e5-ac2c-283fe5fc2d65>\n",
            "DEBUG:cassandra.connection:Sent StartupMessage on <LibevConnection(140578352526864) 40bf567c-d6f1-41f4-acdc-2d55f7a65760-asia-south1.db.astra.datastax.com:29042:7d78e9c1-0951-47e5-ac2c-283fe5fc2d65>\n",
            "DEBUG:cassandra.connection:Received options response on new connection (140578352391184) from 40bf567c-d6f1-41f4-acdc-2d55f7a65760-asia-south1.db.astra.datastax.com:29042:358ca568-08f7-42a4-8574-b72c6a0af7b7\n",
            "DEBUG:cassandra.connection:No available compression types supported on both ends. locally supported: odict_keys([]). remotely supported: ['snappy', 'lz4']\n",
            "DEBUG:cassandra.connection:Sending StartupMessage on <LibevConnection(140578352391184) 40bf567c-d6f1-41f4-acdc-2d55f7a65760-asia-south1.db.astra.datastax.com:29042:358ca568-08f7-42a4-8574-b72c6a0af7b7>\n",
            "DEBUG:cassandra.connection:Sent StartupMessage on <LibevConnection(140578352391184) 40bf567c-d6f1-41f4-acdc-2d55f7a65760-asia-south1.db.astra.datastax.com:29042:358ca568-08f7-42a4-8574-b72c6a0af7b7>\n",
            "DEBUG:cassandra.connection:Got AuthenticateMessage on new connection (140578352526864) from 40bf567c-d6f1-41f4-acdc-2d55f7a65760-asia-south1.db.astra.datastax.com:29042:7d78e9c1-0951-47e5-ac2c-283fe5fc2d65: org.apache.cassandra.auth.PasswordAuthenticator\n",
            "DEBUG:cassandra.connection:Sending SASL-based auth response on <LibevConnection(140578352526864) 40bf567c-d6f1-41f4-acdc-2d55f7a65760-asia-south1.db.astra.datastax.com:29042:7d78e9c1-0951-47e5-ac2c-283fe5fc2d65>\n",
            "DEBUG:cassandra.connection:Got AuthenticateMessage on new connection (140578352391184) from 40bf567c-d6f1-41f4-acdc-2d55f7a65760-asia-south1.db.astra.datastax.com:29042:358ca568-08f7-42a4-8574-b72c6a0af7b7: org.apache.cassandra.auth.PasswordAuthenticator\n",
            "DEBUG:cassandra.connection:Sending SASL-based auth response on <LibevConnection(140578352391184) 40bf567c-d6f1-41f4-acdc-2d55f7a65760-asia-south1.db.astra.datastax.com:29042:358ca568-08f7-42a4-8574-b72c6a0af7b7>\n",
            "DEBUG:cassandra.connection:Connection <LibevConnection(140578352391184) 40bf567c-d6f1-41f4-acdc-2d55f7a65760-asia-south1.db.astra.datastax.com:29042:358ca568-08f7-42a4-8574-b72c6a0af7b7> successfully authenticated\n",
            "DEBUG:cassandra.pool:Finished initializing connection for host 40bf567c-d6f1-41f4-acdc-2d55f7a65760-asia-south1.db.astra.datastax.com:29042:358ca568-08f7-42a4-8574-b72c6a0af7b7\n",
            "DEBUG:cassandra.cluster:Added pool for host 40bf567c-d6f1-41f4-acdc-2d55f7a65760-asia-south1.db.astra.datastax.com:29042:358ca568-08f7-42a4-8574-b72c6a0af7b7 to session\n",
            "DEBUG:cassandra.pool:Initializing connection for host 40bf567c-d6f1-41f4-acdc-2d55f7a65760-asia-south1.db.astra.datastax.com:29042:44e57ad8-5416-4b95-85e3-f9e4c0f2a66b\n",
            "DEBUG:cassandra.cluster:Not starting MonitorReporter thread for Insights; not supported by server version 4.0.0.6816 on ControlConnection host 40bf567c-d6f1-41f4-acdc-2d55f7a65760-asia-south1.db.astra.datastax.com:29042:358ca568-08f7-42a4-8574-b72c6a0af7b7\n",
            "DEBUG:cassandra.cluster:Started Session with client_id 6d85aa96-f12a-44d1-93a6-6fb5e93d94e3 and session_id 02906a17-3ffb-4581-b9e8-02daa0b3d0a7\n",
            "DEBUG:cassandra.connection:Connection <LibevConnection(140578352526864) 40bf567c-d6f1-41f4-acdc-2d55f7a65760-asia-south1.db.astra.datastax.com:29042:7d78e9c1-0951-47e5-ac2c-283fe5fc2d65> successfully authenticated\n",
            "DEBUG:cassandra.pool:Finished initializing connection for host 40bf567c-d6f1-41f4-acdc-2d55f7a65760-asia-south1.db.astra.datastax.com:29042:7d78e9c1-0951-47e5-ac2c-283fe5fc2d65\n",
            "DEBUG:cassandra.cluster:Added pool for host 40bf567c-d6f1-41f4-acdc-2d55f7a65760-asia-south1.db.astra.datastax.com:29042:7d78e9c1-0951-47e5-ac2c-283fe5fc2d65 to session\n"
          ]
        }
      ],
      "source": [
        "# Database Name : Ineuron_3\n",
        "\n",
        "keyspace = 'german_credit'\n",
        "\n",
        "table_name = 'gcr2'\n",
        "\n",
        "client_id = 'iQyLbOiYUpxBBjOpKxYMKvnQ'\n",
        "\n",
        "client_secret = '6RXh7D4EW,3KrwO_xGASH0ElpjiLBQYH97SzAgatFMN,EXxYlPWMm96LtB1RIE_fm6bPyClhM74kDtXdBAt3LegqcCdErrU_Jj9OsH9OSW+2J1G+FOG4yop8uim9v0Go'\n",
        "\n",
        "cloud_config = {'secure_connect_bundle':'/content/secure-connect-ineuron-3.zip'}\n",
        "auth_provider = PlainTextAuthProvider(client_id, client_secret)\n",
        "cluster = Cluster(cloud=cloud_config, auth_provider=auth_provider)\n",
        "session = cluster.connect()"
      ]
    },
    {
      "cell_type": "code",
      "source": [
        "logger.info('Database Connected.')"
      ],
      "metadata": {
        "id": "7JFm_pWef2aB",
        "colab": {
          "base_uri": "https://localhost:8080/"
        },
        "outputId": "6761b8d3-51dd-4e03-b5bd-b9ada909ee23"
      },
      "execution_count": 8,
      "outputs": [
        {
          "output_type": "stream",
          "name": "stderr",
          "text": [
            "INFO:root:Database Connected.\n"
          ]
        }
      ]
    },
    {
      "cell_type": "code",
      "execution_count": 9,
      "metadata": {
        "colab": {
          "base_uri": "https://localhost:8080/"
        },
        "id": "ZruMEaoXJbTg",
        "outputId": "df997618-991d-424b-e396-cd45b5553ccc"
      },
      "outputs": [
        {
          "output_type": "stream",
          "name": "stderr",
          "text": [
            "DEBUG:cassandra.connection:Sending initial options message for new connection (140578352526992) to 40bf567c-d6f1-41f4-acdc-2d55f7a65760-asia-south1.db.astra.datastax.com:29042:44e57ad8-5416-4b95-85e3-f9e4c0f2a66b\n"
          ]
        },
        {
          "output_type": "execute_result",
          "data": {
            "text/plain": [
              "<cassandra.cluster.ResultSet at 0x7fdb0c704b10>"
            ]
          },
          "metadata": {},
          "execution_count": 9
        }
      ],
      "source": [
        "session.execute(\"USE {keyspace};\".format(keyspace=keyspace))"
      ]
    },
    {
      "cell_type": "code",
      "source": [
        "logger.info('Extracting data from database..')"
      ],
      "metadata": {
        "id": "Mf0gc9grf6rH",
        "colab": {
          "base_uri": "https://localhost:8080/"
        },
        "outputId": "9c48bb62-135c-4ea3-9814-88d593a46544"
      },
      "execution_count": 10,
      "outputs": [
        {
          "output_type": "stream",
          "name": "stderr",
          "text": [
            "INFO:root:Extracting data from database..\n"
          ]
        }
      ]
    },
    {
      "cell_type": "code",
      "execution_count": 11,
      "metadata": {
        "colab": {
          "base_uri": "https://localhost:8080/",
          "height": 392
        },
        "id": "69OF1b2XJHVi",
        "outputId": "6ea3240b-c1f4-47e8-e7cc-7177e7de53b5"
      },
      "outputs": [
        {
          "output_type": "stream",
          "name": "stderr",
          "text": [
            "DEBUG:cassandra.connection:Received options response on new connection (140578352526992) from 40bf567c-d6f1-41f4-acdc-2d55f7a65760-asia-south1.db.astra.datastax.com:29042:44e57ad8-5416-4b95-85e3-f9e4c0f2a66b\n",
            "DEBUG:cassandra.connection:No available compression types supported on both ends. locally supported: odict_keys([]). remotely supported: ['snappy', 'lz4']\n",
            "DEBUG:cassandra.connection:Sending StartupMessage on <LibevConnection(140578352526992) 40bf567c-d6f1-41f4-acdc-2d55f7a65760-asia-south1.db.astra.datastax.com:29042:44e57ad8-5416-4b95-85e3-f9e4c0f2a66b>\n",
            "DEBUG:cassandra.connection:Sent StartupMessage on <LibevConnection(140578352526992) 40bf567c-d6f1-41f4-acdc-2d55f7a65760-asia-south1.db.astra.datastax.com:29042:44e57ad8-5416-4b95-85e3-f9e4c0f2a66b>\n",
            "DEBUG:cassandra.connection:Got AuthenticateMessage on new connection (140578352526992) from 40bf567c-d6f1-41f4-acdc-2d55f7a65760-asia-south1.db.astra.datastax.com:29042:44e57ad8-5416-4b95-85e3-f9e4c0f2a66b: org.apache.cassandra.auth.PasswordAuthenticator\n",
            "DEBUG:cassandra.connection:Sending SASL-based auth response on <LibevConnection(140578352526992) 40bf567c-d6f1-41f4-acdc-2d55f7a65760-asia-south1.db.astra.datastax.com:29042:44e57ad8-5416-4b95-85e3-f9e4c0f2a66b>\n",
            "DEBUG:cassandra.connection:Connection <LibevConnection(140578352526992) 40bf567c-d6f1-41f4-acdc-2d55f7a65760-asia-south1.db.astra.datastax.com:29042:44e57ad8-5416-4b95-85e3-f9e4c0f2a66b> successfully authenticated\n"
          ]
        },
        {
          "output_type": "execute_result",
          "data": {
            "text/plain": [
              "     id  age  amount  credit_history  credit_risk  duration  \\\n",
              "296   0   21    1049               4            1        18   \n",
              "255   1   36    2799               4            1         9   \n",
              "312   2   23     841               2            1        12   \n",
              "989   3   39    2122               4            1        12   \n",
              "339   4   38    2171               4            1        12   \n",
              "\n",
              "     employment_duration  foreign_worker  housing  other_debtors  \\\n",
              "296                    2               2        1              1   \n",
              "255                    3               2        1              1   \n",
              "312                    4               2        1              1   \n",
              "989                    3               1        1              1   \n",
              "339                    3               1        2              1   \n",
              "\n",
              "     other_installment_plans  personal_status_sex  property  purpose  savings  \\\n",
              "296                        3                    2         2        2        1   \n",
              "255                        3                    3         1        0        1   \n",
              "312                        3                    2         1        9        2   \n",
              "989                        3                    3         1        0        1   \n",
              "339                        1                    3         2        0        1   \n",
              "\n",
              "     status  \n",
              "296       1  \n",
              "255       1  \n",
              "312       2  \n",
              "989       1  \n",
              "339       1  "
            ],
            "text/html": [
              "\n",
              "  <div id=\"df-05cc06c1-87d2-4c6b-b1df-be5b709ea3e6\">\n",
              "    <div class=\"colab-df-container\">\n",
              "      <div>\n",
              "<style scoped>\n",
              "    .dataframe tbody tr th:only-of-type {\n",
              "        vertical-align: middle;\n",
              "    }\n",
              "\n",
              "    .dataframe tbody tr th {\n",
              "        vertical-align: top;\n",
              "    }\n",
              "\n",
              "    .dataframe thead th {\n",
              "        text-align: right;\n",
              "    }\n",
              "</style>\n",
              "<table border=\"1\" class=\"dataframe\">\n",
              "  <thead>\n",
              "    <tr style=\"text-align: right;\">\n",
              "      <th></th>\n",
              "      <th>id</th>\n",
              "      <th>age</th>\n",
              "      <th>amount</th>\n",
              "      <th>credit_history</th>\n",
              "      <th>credit_risk</th>\n",
              "      <th>duration</th>\n",
              "      <th>employment_duration</th>\n",
              "      <th>foreign_worker</th>\n",
              "      <th>housing</th>\n",
              "      <th>other_debtors</th>\n",
              "      <th>other_installment_plans</th>\n",
              "      <th>personal_status_sex</th>\n",
              "      <th>property</th>\n",
              "      <th>purpose</th>\n",
              "      <th>savings</th>\n",
              "      <th>status</th>\n",
              "    </tr>\n",
              "  </thead>\n",
              "  <tbody>\n",
              "    <tr>\n",
              "      <th>296</th>\n",
              "      <td>0</td>\n",
              "      <td>21</td>\n",
              "      <td>1049</td>\n",
              "      <td>4</td>\n",
              "      <td>1</td>\n",
              "      <td>18</td>\n",
              "      <td>2</td>\n",
              "      <td>2</td>\n",
              "      <td>1</td>\n",
              "      <td>1</td>\n",
              "      <td>3</td>\n",
              "      <td>2</td>\n",
              "      <td>2</td>\n",
              "      <td>2</td>\n",
              "      <td>1</td>\n",
              "      <td>1</td>\n",
              "    </tr>\n",
              "    <tr>\n",
              "      <th>255</th>\n",
              "      <td>1</td>\n",
              "      <td>36</td>\n",
              "      <td>2799</td>\n",
              "      <td>4</td>\n",
              "      <td>1</td>\n",
              "      <td>9</td>\n",
              "      <td>3</td>\n",
              "      <td>2</td>\n",
              "      <td>1</td>\n",
              "      <td>1</td>\n",
              "      <td>3</td>\n",
              "      <td>3</td>\n",
              "      <td>1</td>\n",
              "      <td>0</td>\n",
              "      <td>1</td>\n",
              "      <td>1</td>\n",
              "    </tr>\n",
              "    <tr>\n",
              "      <th>312</th>\n",
              "      <td>2</td>\n",
              "      <td>23</td>\n",
              "      <td>841</td>\n",
              "      <td>2</td>\n",
              "      <td>1</td>\n",
              "      <td>12</td>\n",
              "      <td>4</td>\n",
              "      <td>2</td>\n",
              "      <td>1</td>\n",
              "      <td>1</td>\n",
              "      <td>3</td>\n",
              "      <td>2</td>\n",
              "      <td>1</td>\n",
              "      <td>9</td>\n",
              "      <td>2</td>\n",
              "      <td>2</td>\n",
              "    </tr>\n",
              "    <tr>\n",
              "      <th>989</th>\n",
              "      <td>3</td>\n",
              "      <td>39</td>\n",
              "      <td>2122</td>\n",
              "      <td>4</td>\n",
              "      <td>1</td>\n",
              "      <td>12</td>\n",
              "      <td>3</td>\n",
              "      <td>1</td>\n",
              "      <td>1</td>\n",
              "      <td>1</td>\n",
              "      <td>3</td>\n",
              "      <td>3</td>\n",
              "      <td>1</td>\n",
              "      <td>0</td>\n",
              "      <td>1</td>\n",
              "      <td>1</td>\n",
              "    </tr>\n",
              "    <tr>\n",
              "      <th>339</th>\n",
              "      <td>4</td>\n",
              "      <td>38</td>\n",
              "      <td>2171</td>\n",
              "      <td>4</td>\n",
              "      <td>1</td>\n",
              "      <td>12</td>\n",
              "      <td>3</td>\n",
              "      <td>1</td>\n",
              "      <td>2</td>\n",
              "      <td>1</td>\n",
              "      <td>1</td>\n",
              "      <td>3</td>\n",
              "      <td>2</td>\n",
              "      <td>0</td>\n",
              "      <td>1</td>\n",
              "      <td>1</td>\n",
              "    </tr>\n",
              "  </tbody>\n",
              "</table>\n",
              "</div>\n",
              "      <button class=\"colab-df-convert\" onclick=\"convertToInteractive('df-05cc06c1-87d2-4c6b-b1df-be5b709ea3e6')\"\n",
              "              title=\"Convert this dataframe to an interactive table.\"\n",
              "              style=\"display:none;\">\n",
              "        \n",
              "  <svg xmlns=\"http://www.w3.org/2000/svg\" height=\"24px\"viewBox=\"0 0 24 24\"\n",
              "       width=\"24px\">\n",
              "    <path d=\"M0 0h24v24H0V0z\" fill=\"none\"/>\n",
              "    <path d=\"M18.56 5.44l.94 2.06.94-2.06 2.06-.94-2.06-.94-.94-2.06-.94 2.06-2.06.94zm-11 1L8.5 8.5l.94-2.06 2.06-.94-2.06-.94L8.5 2.5l-.94 2.06-2.06.94zm10 10l.94 2.06.94-2.06 2.06-.94-2.06-.94-.94-2.06-.94 2.06-2.06.94z\"/><path d=\"M17.41 7.96l-1.37-1.37c-.4-.4-.92-.59-1.43-.59-.52 0-1.04.2-1.43.59L10.3 9.45l-7.72 7.72c-.78.78-.78 2.05 0 2.83L4 21.41c.39.39.9.59 1.41.59.51 0 1.02-.2 1.41-.59l7.78-7.78 2.81-2.81c.8-.78.8-2.07 0-2.86zM5.41 20L4 18.59l7.72-7.72 1.47 1.35L5.41 20z\"/>\n",
              "  </svg>\n",
              "      </button>\n",
              "      \n",
              "  <style>\n",
              "    .colab-df-container {\n",
              "      display:flex;\n",
              "      flex-wrap:wrap;\n",
              "      gap: 12px;\n",
              "    }\n",
              "\n",
              "    .colab-df-convert {\n",
              "      background-color: #E8F0FE;\n",
              "      border: none;\n",
              "      border-radius: 50%;\n",
              "      cursor: pointer;\n",
              "      display: none;\n",
              "      fill: #1967D2;\n",
              "      height: 32px;\n",
              "      padding: 0 0 0 0;\n",
              "      width: 32px;\n",
              "    }\n",
              "\n",
              "    .colab-df-convert:hover {\n",
              "      background-color: #E2EBFA;\n",
              "      box-shadow: 0px 1px 2px rgba(60, 64, 67, 0.3), 0px 1px 3px 1px rgba(60, 64, 67, 0.15);\n",
              "      fill: #174EA6;\n",
              "    }\n",
              "\n",
              "    [theme=dark] .colab-df-convert {\n",
              "      background-color: #3B4455;\n",
              "      fill: #D2E3FC;\n",
              "    }\n",
              "\n",
              "    [theme=dark] .colab-df-convert:hover {\n",
              "      background-color: #434B5C;\n",
              "      box-shadow: 0px 1px 3px 1px rgba(0, 0, 0, 0.15);\n",
              "      filter: drop-shadow(0px 1px 2px rgba(0, 0, 0, 0.3));\n",
              "      fill: #FFFFFF;\n",
              "    }\n",
              "  </style>\n",
              "\n",
              "      <script>\n",
              "        const buttonEl =\n",
              "          document.querySelector('#df-05cc06c1-87d2-4c6b-b1df-be5b709ea3e6 button.colab-df-convert');\n",
              "        buttonEl.style.display =\n",
              "          google.colab.kernel.accessAllowed ? 'block' : 'none';\n",
              "\n",
              "        async function convertToInteractive(key) {\n",
              "          const element = document.querySelector('#df-05cc06c1-87d2-4c6b-b1df-be5b709ea3e6');\n",
              "          const dataTable =\n",
              "            await google.colab.kernel.invokeFunction('convertToInteractive',\n",
              "                                                     [key], {});\n",
              "          if (!dataTable) return;\n",
              "\n",
              "          const docLinkHtml = 'Like what you see? Visit the ' +\n",
              "            '<a target=\"_blank\" href=https://colab.research.google.com/notebooks/data_table.ipynb>data table notebook</a>'\n",
              "            + ' to learn more about interactive tables.';\n",
              "          element.innerHTML = '';\n",
              "          dataTable['output_type'] = 'display_data';\n",
              "          await google.colab.output.renderOutput(dataTable, element);\n",
              "          const docLink = document.createElement('div');\n",
              "          docLink.innerHTML = docLinkHtml;\n",
              "          element.appendChild(docLink);\n",
              "        }\n",
              "      </script>\n",
              "    </div>\n",
              "  </div>\n",
              "  "
            ]
          },
          "metadata": {},
          "execution_count": 11
        }
      ],
      "source": [
        "def pandas_factory(colnames, rows):\n",
        "  return pd.DataFrame(rows, columns=colnames)\n",
        "\n",
        "session.row_factory = pandas_factory\n",
        "session.default_fetch_size = None\n",
        "\n",
        "result = session.execute(\"SELECT * FROM {table_name};\".format(table_name=table_name), timeout=None)\n",
        "\n",
        "df=result._current_rows.sort_values('id')\n",
        "df.head()"
      ]
    },
    {
      "cell_type": "code",
      "source": [
        "logger.info('Data extraction completed.')"
      ],
      "metadata": {
        "id": "XnhP267Yf_og",
        "colab": {
          "base_uri": "https://localhost:8080/"
        },
        "outputId": "990568df-3623-4ce3-ca2f-3c8dddd4acfd"
      },
      "execution_count": 12,
      "outputs": [
        {
          "output_type": "stream",
          "name": "stderr",
          "text": [
            "INFO:root:Data extraction completed.\n"
          ]
        }
      ]
    },
    {
      "cell_type": "markdown",
      "metadata": {
        "id": "vmOCLnnXhL6i"
      },
      "source": [
        "# **Feature Engineering**"
      ]
    },
    {
      "cell_type": "code",
      "source": [
        "logger.info('Feature engineering started..')"
      ],
      "metadata": {
        "id": "HUxGBHC-gEU5",
        "colab": {
          "base_uri": "https://localhost:8080/"
        },
        "outputId": "f365c045-165a-4d21-f9ee-ad503da5cc3b"
      },
      "execution_count": 13,
      "outputs": [
        {
          "output_type": "stream",
          "name": "stderr",
          "text": [
            "INFO:root:Feature engineering started..\n"
          ]
        }
      ]
    },
    {
      "cell_type": "markdown",
      "metadata": {
        "id": "ZS0uz27QhSCi"
      },
      "source": [
        "**Encoding categorical variables**"
      ]
    },
    {
      "cell_type": "code",
      "execution_count": 14,
      "metadata": {
        "id": "7wemKeB0dcWo"
      },
      "outputs": [],
      "source": [
        "cat_vars = ['credit_history', 'status', 'purpose', 'savings', 'employment_duration', 'personal_status_sex',\n",
        "            'other_debtors', 'property', 'other_installment_plans', 'housing', 'foreign_worker']"
      ]
    },
    {
      "cell_type": "code",
      "execution_count": 15,
      "metadata": {
        "colab": {
          "base_uri": "https://localhost:8080/",
          "height": 300
        },
        "id": "KySS4xCUiz8C",
        "outputId": "66a01131-3f8f-4ad7-9f74-a5b792bb9cc2"
      },
      "outputs": [
        {
          "output_type": "execute_result",
          "data": {
            "text/plain": [
              "     age  amount  credit_risk  duration  credit_history_0  credit_history_1  \\\n",
              "296   21    1049            1        18                 0                 0   \n",
              "255   36    2799            1         9                 0                 0   \n",
              "312   23     841            1        12                 0                 0   \n",
              "989   39    2122            1        12                 0                 0   \n",
              "339   38    2171            1        12                 0                 0   \n",
              "\n",
              "     credit_history_2  credit_history_3  credit_history_4  status_1  ...  \\\n",
              "296                 0                 0                 1         1  ...   \n",
              "255                 0                 0                 1         1  ...   \n",
              "312                 1                 0                 0         0  ...   \n",
              "989                 0                 0                 1         1  ...   \n",
              "339                 0                 0                 1         1  ...   \n",
              "\n",
              "     property_3  property_4  other_installment_plans_1  \\\n",
              "296           0           0                          0   \n",
              "255           0           0                          0   \n",
              "312           0           0                          0   \n",
              "989           0           0                          0   \n",
              "339           0           0                          1   \n",
              "\n",
              "     other_installment_plans_2  other_installment_plans_3  housing_1  \\\n",
              "296                          0                          1          1   \n",
              "255                          0                          1          1   \n",
              "312                          0                          1          1   \n",
              "989                          0                          1          1   \n",
              "339                          0                          0          0   \n",
              "\n",
              "     housing_2  housing_3  foreign_worker_1  foreign_worker_2  \n",
              "296          0          0                 0                 1  \n",
              "255          0          0                 0                 1  \n",
              "312          0          0                 0                 1  \n",
              "989          0          0                 1                 0  \n",
              "339          1          0                 1                 0  \n",
              "\n",
              "[5 rows x 52 columns]"
            ],
            "text/html": [
              "\n",
              "  <div id=\"df-65d6d25f-c0d6-4efc-8715-8cdeca94f0ba\">\n",
              "    <div class=\"colab-df-container\">\n",
              "      <div>\n",
              "<style scoped>\n",
              "    .dataframe tbody tr th:only-of-type {\n",
              "        vertical-align: middle;\n",
              "    }\n",
              "\n",
              "    .dataframe tbody tr th {\n",
              "        vertical-align: top;\n",
              "    }\n",
              "\n",
              "    .dataframe thead th {\n",
              "        text-align: right;\n",
              "    }\n",
              "</style>\n",
              "<table border=\"1\" class=\"dataframe\">\n",
              "  <thead>\n",
              "    <tr style=\"text-align: right;\">\n",
              "      <th></th>\n",
              "      <th>age</th>\n",
              "      <th>amount</th>\n",
              "      <th>credit_risk</th>\n",
              "      <th>duration</th>\n",
              "      <th>credit_history_0</th>\n",
              "      <th>credit_history_1</th>\n",
              "      <th>credit_history_2</th>\n",
              "      <th>credit_history_3</th>\n",
              "      <th>credit_history_4</th>\n",
              "      <th>status_1</th>\n",
              "      <th>...</th>\n",
              "      <th>property_3</th>\n",
              "      <th>property_4</th>\n",
              "      <th>other_installment_plans_1</th>\n",
              "      <th>other_installment_plans_2</th>\n",
              "      <th>other_installment_plans_3</th>\n",
              "      <th>housing_1</th>\n",
              "      <th>housing_2</th>\n",
              "      <th>housing_3</th>\n",
              "      <th>foreign_worker_1</th>\n",
              "      <th>foreign_worker_2</th>\n",
              "    </tr>\n",
              "  </thead>\n",
              "  <tbody>\n",
              "    <tr>\n",
              "      <th>296</th>\n",
              "      <td>21</td>\n",
              "      <td>1049</td>\n",
              "      <td>1</td>\n",
              "      <td>18</td>\n",
              "      <td>0</td>\n",
              "      <td>0</td>\n",
              "      <td>0</td>\n",
              "      <td>0</td>\n",
              "      <td>1</td>\n",
              "      <td>1</td>\n",
              "      <td>...</td>\n",
              "      <td>0</td>\n",
              "      <td>0</td>\n",
              "      <td>0</td>\n",
              "      <td>0</td>\n",
              "      <td>1</td>\n",
              "      <td>1</td>\n",
              "      <td>0</td>\n",
              "      <td>0</td>\n",
              "      <td>0</td>\n",
              "      <td>1</td>\n",
              "    </tr>\n",
              "    <tr>\n",
              "      <th>255</th>\n",
              "      <td>36</td>\n",
              "      <td>2799</td>\n",
              "      <td>1</td>\n",
              "      <td>9</td>\n",
              "      <td>0</td>\n",
              "      <td>0</td>\n",
              "      <td>0</td>\n",
              "      <td>0</td>\n",
              "      <td>1</td>\n",
              "      <td>1</td>\n",
              "      <td>...</td>\n",
              "      <td>0</td>\n",
              "      <td>0</td>\n",
              "      <td>0</td>\n",
              "      <td>0</td>\n",
              "      <td>1</td>\n",
              "      <td>1</td>\n",
              "      <td>0</td>\n",
              "      <td>0</td>\n",
              "      <td>0</td>\n",
              "      <td>1</td>\n",
              "    </tr>\n",
              "    <tr>\n",
              "      <th>312</th>\n",
              "      <td>23</td>\n",
              "      <td>841</td>\n",
              "      <td>1</td>\n",
              "      <td>12</td>\n",
              "      <td>0</td>\n",
              "      <td>0</td>\n",
              "      <td>1</td>\n",
              "      <td>0</td>\n",
              "      <td>0</td>\n",
              "      <td>0</td>\n",
              "      <td>...</td>\n",
              "      <td>0</td>\n",
              "      <td>0</td>\n",
              "      <td>0</td>\n",
              "      <td>0</td>\n",
              "      <td>1</td>\n",
              "      <td>1</td>\n",
              "      <td>0</td>\n",
              "      <td>0</td>\n",
              "      <td>0</td>\n",
              "      <td>1</td>\n",
              "    </tr>\n",
              "    <tr>\n",
              "      <th>989</th>\n",
              "      <td>39</td>\n",
              "      <td>2122</td>\n",
              "      <td>1</td>\n",
              "      <td>12</td>\n",
              "      <td>0</td>\n",
              "      <td>0</td>\n",
              "      <td>0</td>\n",
              "      <td>0</td>\n",
              "      <td>1</td>\n",
              "      <td>1</td>\n",
              "      <td>...</td>\n",
              "      <td>0</td>\n",
              "      <td>0</td>\n",
              "      <td>0</td>\n",
              "      <td>0</td>\n",
              "      <td>1</td>\n",
              "      <td>1</td>\n",
              "      <td>0</td>\n",
              "      <td>0</td>\n",
              "      <td>1</td>\n",
              "      <td>0</td>\n",
              "    </tr>\n",
              "    <tr>\n",
              "      <th>339</th>\n",
              "      <td>38</td>\n",
              "      <td>2171</td>\n",
              "      <td>1</td>\n",
              "      <td>12</td>\n",
              "      <td>0</td>\n",
              "      <td>0</td>\n",
              "      <td>0</td>\n",
              "      <td>0</td>\n",
              "      <td>1</td>\n",
              "      <td>1</td>\n",
              "      <td>...</td>\n",
              "      <td>0</td>\n",
              "      <td>0</td>\n",
              "      <td>1</td>\n",
              "      <td>0</td>\n",
              "      <td>0</td>\n",
              "      <td>0</td>\n",
              "      <td>1</td>\n",
              "      <td>0</td>\n",
              "      <td>1</td>\n",
              "      <td>0</td>\n",
              "    </tr>\n",
              "  </tbody>\n",
              "</table>\n",
              "<p>5 rows × 52 columns</p>\n",
              "</div>\n",
              "      <button class=\"colab-df-convert\" onclick=\"convertToInteractive('df-65d6d25f-c0d6-4efc-8715-8cdeca94f0ba')\"\n",
              "              title=\"Convert this dataframe to an interactive table.\"\n",
              "              style=\"display:none;\">\n",
              "        \n",
              "  <svg xmlns=\"http://www.w3.org/2000/svg\" height=\"24px\"viewBox=\"0 0 24 24\"\n",
              "       width=\"24px\">\n",
              "    <path d=\"M0 0h24v24H0V0z\" fill=\"none\"/>\n",
              "    <path d=\"M18.56 5.44l.94 2.06.94-2.06 2.06-.94-2.06-.94-.94-2.06-.94 2.06-2.06.94zm-11 1L8.5 8.5l.94-2.06 2.06-.94-2.06-.94L8.5 2.5l-.94 2.06-2.06.94zm10 10l.94 2.06.94-2.06 2.06-.94-2.06-.94-.94-2.06-.94 2.06-2.06.94z\"/><path d=\"M17.41 7.96l-1.37-1.37c-.4-.4-.92-.59-1.43-.59-.52 0-1.04.2-1.43.59L10.3 9.45l-7.72 7.72c-.78.78-.78 2.05 0 2.83L4 21.41c.39.39.9.59 1.41.59.51 0 1.02-.2 1.41-.59l7.78-7.78 2.81-2.81c.8-.78.8-2.07 0-2.86zM5.41 20L4 18.59l7.72-7.72 1.47 1.35L5.41 20z\"/>\n",
              "  </svg>\n",
              "      </button>\n",
              "      \n",
              "  <style>\n",
              "    .colab-df-container {\n",
              "      display:flex;\n",
              "      flex-wrap:wrap;\n",
              "      gap: 12px;\n",
              "    }\n",
              "\n",
              "    .colab-df-convert {\n",
              "      background-color: #E8F0FE;\n",
              "      border: none;\n",
              "      border-radius: 50%;\n",
              "      cursor: pointer;\n",
              "      display: none;\n",
              "      fill: #1967D2;\n",
              "      height: 32px;\n",
              "      padding: 0 0 0 0;\n",
              "      width: 32px;\n",
              "    }\n",
              "\n",
              "    .colab-df-convert:hover {\n",
              "      background-color: #E2EBFA;\n",
              "      box-shadow: 0px 1px 2px rgba(60, 64, 67, 0.3), 0px 1px 3px 1px rgba(60, 64, 67, 0.15);\n",
              "      fill: #174EA6;\n",
              "    }\n",
              "\n",
              "    [theme=dark] .colab-df-convert {\n",
              "      background-color: #3B4455;\n",
              "      fill: #D2E3FC;\n",
              "    }\n",
              "\n",
              "    [theme=dark] .colab-df-convert:hover {\n",
              "      background-color: #434B5C;\n",
              "      box-shadow: 0px 1px 3px 1px rgba(0, 0, 0, 0.15);\n",
              "      filter: drop-shadow(0px 1px 2px rgba(0, 0, 0, 0.3));\n",
              "      fill: #FFFFFF;\n",
              "    }\n",
              "  </style>\n",
              "\n",
              "      <script>\n",
              "        const buttonEl =\n",
              "          document.querySelector('#df-65d6d25f-c0d6-4efc-8715-8cdeca94f0ba button.colab-df-convert');\n",
              "        buttonEl.style.display =\n",
              "          google.colab.kernel.accessAllowed ? 'block' : 'none';\n",
              "\n",
              "        async function convertToInteractive(key) {\n",
              "          const element = document.querySelector('#df-65d6d25f-c0d6-4efc-8715-8cdeca94f0ba');\n",
              "          const dataTable =\n",
              "            await google.colab.kernel.invokeFunction('convertToInteractive',\n",
              "                                                     [key], {});\n",
              "          if (!dataTable) return;\n",
              "\n",
              "          const docLinkHtml = 'Like what you see? Visit the ' +\n",
              "            '<a target=\"_blank\" href=https://colab.research.google.com/notebooks/data_table.ipynb>data table notebook</a>'\n",
              "            + ' to learn more about interactive tables.';\n",
              "          element.innerHTML = '';\n",
              "          dataTable['output_type'] = 'display_data';\n",
              "          await google.colab.output.renderOutput(dataTable, element);\n",
              "          const docLink = document.createElement('div');\n",
              "          docLink.innerHTML = docLinkHtml;\n",
              "          element.appendChild(docLink);\n",
              "        }\n",
              "      </script>\n",
              "    </div>\n",
              "  </div>\n",
              "  "
            ]
          },
          "metadata": {},
          "execution_count": 15
        }
      ],
      "source": [
        "# Encoding categorical variables\n",
        "df_engineered = pd.get_dummies(df,columns=cat_vars).drop('id', axis=1)\n",
        "\n",
        "df_engineered.head()"
      ]
    },
    {
      "cell_type": "markdown",
      "source": [
        "We shall scale the numeric columns after we separate the data into independent and dependent variables, prior to modeling."
      ],
      "metadata": {
        "id": "hOOo5B76w8VW"
      }
    },
    {
      "cell_type": "code",
      "source": [
        "logger.info('Feature engineering completed.')"
      ],
      "metadata": {
        "id": "GcwkJsXdgJ5_",
        "colab": {
          "base_uri": "https://localhost:8080/"
        },
        "outputId": "7073b87b-e9ce-45a4-f55a-d0039c028b59"
      },
      "execution_count": 16,
      "outputs": [
        {
          "output_type": "stream",
          "name": "stderr",
          "text": [
            "INFO:root:Feature engineering completed.\n"
          ]
        }
      ]
    },
    {
      "cell_type": "markdown",
      "source": [
        "# **Modeling**"
      ],
      "metadata": {
        "id": "L-HOBauFubrP"
      }
    },
    {
      "cell_type": "code",
      "source": [
        "logger.info('Modeling started.')"
      ],
      "metadata": {
        "id": "sW5bWdutgSUi",
        "colab": {
          "base_uri": "https://localhost:8080/"
        },
        "outputId": "f46b09d4-2c6a-4c61-b486-3a37ae7727a6"
      },
      "execution_count": 17,
      "outputs": [
        {
          "output_type": "stream",
          "name": "stderr",
          "text": [
            "INFO:root:Modeling started.\n"
          ]
        }
      ]
    },
    {
      "cell_type": "code",
      "execution_count": 18,
      "metadata": {
        "id": "Pa5Ac8EyjHq4"
      },
      "outputs": [],
      "source": [
        "X = df_engineered.drop('credit_risk', axis=1)\n",
        "y= df_engineered['credit_risk']"
      ]
    },
    {
      "cell_type": "code",
      "source": [
        "#standardise the x value by using standardscaler\n",
        "scaler = StandardScaler()\n",
        "X = scaler.fit_transform(X)"
      ],
      "metadata": {
        "id": "bNhgWz2osO2B"
      },
      "execution_count": 19,
      "outputs": []
    },
    {
      "cell_type": "code",
      "source": [
        "# Split the data into training and testing set\n",
        "from sklearn.model_selection import train_test_split\n",
        "X_train, X_test, y_train, y_test = train_test_split(X, y, test_size=0.3, random_state=42)"
      ],
      "metadata": {
        "id": "CvPvb67zwWnH"
      },
      "execution_count": 20,
      "outputs": []
    },
    {
      "cell_type": "code",
      "source": [
        "# Checking the target rate in the population, train sample and test sample\n",
        "print(\"Population risk rate :\", \n",
        "      round(sum(df_engineered.credit_risk)*100/len(df_engineered), 2),\"%\")\n",
        "print(\"Train set risk rate :\", \n",
        "      round(sum(y_train)*100/len(y_train), 2),\"%\")\n",
        "print(\"Test set risk rate :\", \n",
        "      round(sum(y_test)*100/len(y_test), 2),\"%\")"
      ],
      "metadata": {
        "colab": {
          "base_uri": "https://localhost:8080/"
        },
        "id": "AahNHFXCBajd",
        "outputId": "57c6157c-d29d-4886-b0d2-efcf2b505aee"
      },
      "execution_count": 21,
      "outputs": [
        {
          "output_type": "stream",
          "name": "stdout",
          "text": [
            "Population risk rate : 70.0 %\n",
            "Train set risk rate : 70.29 %\n",
            "Test set risk rate : 69.33 %\n"
          ]
        }
      ]
    },
    {
      "cell_type": "markdown",
      "source": [
        "The target rates seem to be satifactory, as all the values are almost close by.\n",
        "\n",
        "This means, there is approximately 70% Good Risk and 30% Bad Risk values in population, train set and test set data."
      ],
      "metadata": {
        "id": "CYKhX8XwCm3A"
      }
    },
    {
      "cell_type": "markdown",
      "source": [
        "## **Logistic Regression**"
      ],
      "metadata": {
        "id": "03HMWXbgwSKF"
      }
    },
    {
      "cell_type": "code",
      "source": [
        "from sklearn.linear_model import LogisticRegression\n",
        "lr_clf = LogisticRegression()\n",
        "\n",
        "# Training the model\n",
        "lr_clf.fit(X_train, y_train)"
      ],
      "metadata": {
        "colab": {
          "base_uri": "https://localhost:8080/"
        },
        "id": "ODVjsqcswzTI",
        "outputId": "21346566-96f7-493f-c5f3-9cae76fcec38"
      },
      "execution_count": 22,
      "outputs": [
        {
          "output_type": "execute_result",
          "data": {
            "text/plain": [
              "LogisticRegression()"
            ]
          },
          "metadata": {},
          "execution_count": 22
        }
      ]
    },
    {
      "cell_type": "code",
      "source": [
        "# Predict on test data\n",
        "y_pred = lr_clf.predict(X_test)"
      ],
      "metadata": {
        "id": "HomQE2F1yIgj"
      },
      "execution_count": 23,
      "outputs": []
    },
    {
      "cell_type": "code",
      "source": [
        "# Evaluation metrics\n",
        "from sklearn import metrics\n",
        "\n",
        "print(metrics.classification_report(y_test, y_pred))\n",
        "print(metrics.confusion_matrix(y_test, y_pred))\n",
        "print('Accuracy :', metrics.accuracy_score(y_test, y_pred))\n",
        "print('F1-score : ', metrics.f1_score(y_test, y_pred))\n",
        "print('ROC-AUC Score :', metrics.roc_auc_score(y_test, y_pred))"
      ],
      "metadata": {
        "colab": {
          "base_uri": "https://localhost:8080/"
        },
        "id": "Qhcx-YqayUDz",
        "outputId": "aa2c4d70-e20d-4b67-fb03-8f3971c76216"
      },
      "execution_count": 24,
      "outputs": [
        {
          "output_type": "stream",
          "name": "stdout",
          "text": [
            "              precision    recall  f1-score   support\n",
            "\n",
            "           0       0.63      0.49      0.55        92\n",
            "           1       0.79      0.88      0.83       208\n",
            "\n",
            "    accuracy                           0.76       300\n",
            "   macro avg       0.71      0.68      0.69       300\n",
            "weighted avg       0.75      0.76      0.75       300\n",
            "\n",
            "[[ 45  47]\n",
            " [ 26 182]]\n",
            "Accuracy : 0.7566666666666667\n",
            "F1-score :  0.8329519450800915\n",
            "ROC-AUC Score : 0.6820652173913043\n"
          ]
        }
      ]
    },
    {
      "cell_type": "code",
      "source": [
        "# Calculate average F1 score on the entire data\n",
        "from sklearn.model_selection import cross_val_score\n",
        "\n",
        "f1 =cross_val_score(lr_clf, X , y, cv=10, scoring='f1')\n",
        "print('\\nFinal Average F1 score of the model:', round(f1.mean(),2))"
      ],
      "metadata": {
        "colab": {
          "base_uri": "https://localhost:8080/"
        },
        "id": "QcpKtWxOybOh",
        "outputId": "b388cd8e-96dc-4703-9ac0-3be1716f6261"
      },
      "execution_count": 25,
      "outputs": [
        {
          "output_type": "stream",
          "name": "stdout",
          "text": [
            "\n",
            "Final Average F1 score of the model: 0.8\n"
          ]
        }
      ]
    },
    {
      "cell_type": "markdown",
      "source": [
        "## **Random Forest Classifier**"
      ],
      "metadata": {
        "id": "gP3GgoEw0B7S"
      }
    },
    {
      "cell_type": "code",
      "source": [
        "from sklearn.ensemble import RandomForestClassifier\n",
        "\n",
        "# Training the model\n",
        "rf_clf = RandomForestClassifier()\n",
        "rf_clf.fit(X_train, y_train)"
      ],
      "metadata": {
        "colab": {
          "base_uri": "https://localhost:8080/"
        },
        "id": "FXTRQtzbzk7z",
        "outputId": "0e13bf43-043d-463e-d45f-640a20cf52d6"
      },
      "execution_count": 26,
      "outputs": [
        {
          "output_type": "execute_result",
          "data": {
            "text/plain": [
              "RandomForestClassifier()"
            ]
          },
          "metadata": {},
          "execution_count": 26
        }
      ]
    },
    {
      "cell_type": "code",
      "source": [
        "# Predictions on test data\n",
        "y_pred = rf_clf.predict(X_test)"
      ],
      "metadata": {
        "id": "rDgHl_cdjtXr"
      },
      "execution_count": 27,
      "outputs": []
    },
    {
      "cell_type": "code",
      "source": [
        "# Evaluation metrics\n",
        "print(metrics.classification_report(y_test, y_pred))\n",
        "print(metrics.confusion_matrix(y_test, y_pred))\n",
        "print('Accuracy :', metrics.accuracy_score(y_test, y_pred))\n",
        "print('F1-score : ', metrics.f1_score(y_test, y_pred))\n",
        "print('ROC-AUC Score :', metrics.roc_auc_score(y_test, y_pred))"
      ],
      "metadata": {
        "colab": {
          "base_uri": "https://localhost:8080/"
        },
        "id": "89H4bh_Lj3LN",
        "outputId": "5ee5cdef-0d94-4867-dee0-242e3b0956d1"
      },
      "execution_count": 28,
      "outputs": [
        {
          "output_type": "stream",
          "name": "stdout",
          "text": [
            "              precision    recall  f1-score   support\n",
            "\n",
            "           0       0.67      0.43      0.53        92\n",
            "           1       0.78      0.90      0.84       208\n",
            "\n",
            "    accuracy                           0.76       300\n",
            "   macro avg       0.72      0.67      0.68       300\n",
            "weighted avg       0.75      0.76      0.74       300\n",
            "\n",
            "[[ 40  52]\n",
            " [ 20 188]]\n",
            "Accuracy : 0.76\n",
            "F1-score :  0.8392857142857143\n",
            "ROC-AUC Score : 0.669314381270903\n"
          ]
        }
      ]
    },
    {
      "cell_type": "code",
      "source": [
        "# Finding average F1 score on entire data using cross validation\n",
        "f1 =cross_val_score(rf_clf, X , y, cv=10, scoring='f1')\n",
        "print('\\nFinal Average F1 score of the model:', round(f1.mean(),2))"
      ],
      "metadata": {
        "colab": {
          "base_uri": "https://localhost:8080/"
        },
        "id": "B19veheGj9f5",
        "outputId": "dc4bfe03-c16d-4e20-da32-373b14b20d18"
      },
      "execution_count": 29,
      "outputs": [
        {
          "output_type": "stream",
          "name": "stdout",
          "text": [
            "\n",
            "Final Average F1 score of the model: 0.82\n"
          ]
        }
      ]
    },
    {
      "cell_type": "markdown",
      "source": [
        "## **Adaboost Classifier**"
      ],
      "metadata": {
        "id": "adx3JS0JkQSA"
      }
    },
    {
      "cell_type": "code",
      "source": [
        "from sklearn.ensemble import AdaBoostClassifier\n",
        "from sklearn.tree import DecisionTreeClassifier\n",
        "\n",
        "dt_clf = DecisionTreeClassifier(max_depth=4)\n",
        "ab_clf = AdaBoostClassifier(base_estimator=dt_clf)\n",
        "\n",
        "# Training the model\n",
        "ab_clf.fit(X_train, y_train)"
      ],
      "metadata": {
        "colab": {
          "base_uri": "https://localhost:8080/"
        },
        "outputId": "653d09ed-ba27-4618-e6b3-7ae00de7de78",
        "id": "BwSsCXtNkQSC"
      },
      "execution_count": 30,
      "outputs": [
        {
          "output_type": "execute_result",
          "data": {
            "text/plain": [
              "AdaBoostClassifier(base_estimator=DecisionTreeClassifier(max_depth=4))"
            ]
          },
          "metadata": {},
          "execution_count": 30
        }
      ]
    },
    {
      "cell_type": "code",
      "source": [
        "# Predictions on test data\n",
        "y_pred = ab_clf.predict(X_test)"
      ],
      "metadata": {
        "id": "qUu-0K7bkQSE"
      },
      "execution_count": 31,
      "outputs": []
    },
    {
      "cell_type": "code",
      "source": [
        "# Evaluation metrics\n",
        "print(metrics.classification_report(y_test, y_pred))\n",
        "print(metrics.confusion_matrix(y_test, y_pred))\n",
        "print('Accuracy :', metrics.accuracy_score(y_test, y_pred))\n",
        "print('F1-score : ', metrics.f1_score(y_test, y_pred))\n",
        "print('ROC-AUC Score :', metrics.roc_auc_score(y_test, y_pred))"
      ],
      "metadata": {
        "colab": {
          "base_uri": "https://localhost:8080/"
        },
        "outputId": "6c956e1b-2fe7-43ec-ed40-94434c41aa02",
        "id": "wLEm-NwSkQSF"
      },
      "execution_count": 32,
      "outputs": [
        {
          "output_type": "stream",
          "name": "stdout",
          "text": [
            "              precision    recall  f1-score   support\n",
            "\n",
            "           0       0.54      0.40      0.46        92\n",
            "           1       0.76      0.85      0.80       208\n",
            "\n",
            "    accuracy                           0.71       300\n",
            "   macro avg       0.65      0.62      0.63       300\n",
            "weighted avg       0.69      0.71      0.70       300\n",
            "\n",
            "[[ 37  55]\n",
            " [ 32 176]]\n",
            "Accuracy : 0.71\n",
            "F1-score :  0.8018223234624144\n",
            "ROC-AUC Score : 0.6241638795986622\n"
          ]
        }
      ]
    },
    {
      "cell_type": "code",
      "source": [
        "# Finding average F1 score on entire data using cross validation\n",
        "f1 =cross_val_score(ab_clf, X , y, cv=10, scoring='f1')\n",
        "print('\\nFinal Average F1 score of the model:', round(f1.mean(),2))"
      ],
      "metadata": {
        "colab": {
          "base_uri": "https://localhost:8080/"
        },
        "outputId": "b7f3c494-a174-4c13-df11-774d8134c9cf",
        "id": "MiUr0XV5kQSI"
      },
      "execution_count": 33,
      "outputs": [
        {
          "output_type": "stream",
          "name": "stdout",
          "text": [
            "\n",
            "Final Average F1 score of the model: 0.77\n"
          ]
        }
      ]
    },
    {
      "cell_type": "markdown",
      "source": [
        "## **XGBoost Classifier**"
      ],
      "metadata": {
        "id": "g0SMr1rJlh1Y"
      }
    },
    {
      "cell_type": "code",
      "source": [
        "from xgboost import XGBClassifier"
      ],
      "metadata": {
        "id": "7PnRckhPrB_j"
      },
      "execution_count": 34,
      "outputs": []
    },
    {
      "cell_type": "code",
      "source": [
        "# Training the model\n",
        "xgb_clf=XGBClassifier(objective='binary:logistic', booster='gbtree')\n",
        "xgb_clf.fit(X_train, y_train)"
      ],
      "metadata": {
        "colab": {
          "base_uri": "https://localhost:8080/"
        },
        "id": "Kh-UilBekQSJ",
        "outputId": "478ee467-d0d9-41fb-dd2a-c66ed32aa58b"
      },
      "execution_count": 35,
      "outputs": [
        {
          "output_type": "execute_result",
          "data": {
            "text/plain": [
              "XGBClassifier()"
            ]
          },
          "metadata": {},
          "execution_count": 35
        }
      ]
    },
    {
      "cell_type": "code",
      "source": [
        "# Predicting on test data\n",
        "y_pred = xgb_clf.predict(X_test)"
      ],
      "metadata": {
        "id": "90McmdGyl0yx"
      },
      "execution_count": 36,
      "outputs": []
    },
    {
      "cell_type": "code",
      "source": [
        "# Evaluation metrics\n",
        "print(metrics.classification_report(y_test, y_pred))\n",
        "print(metrics.confusion_matrix(y_test, y_pred))\n",
        "print('Accuracy :', metrics.accuracy_score(y_test, y_pred))\n",
        "print('F1-score : ', metrics.f1_score(y_test, y_pred))\n",
        "print('ROC-AUC Score :', metrics.roc_auc_score(y_test, y_pred))"
      ],
      "metadata": {
        "colab": {
          "base_uri": "https://localhost:8080/"
        },
        "id": "5pOgKmqhmEzG",
        "outputId": "95960759-e182-4f39-9adc-bbe822043a3c"
      },
      "execution_count": 37,
      "outputs": [
        {
          "output_type": "stream",
          "name": "stdout",
          "text": [
            "              precision    recall  f1-score   support\n",
            "\n",
            "           0       0.65      0.50      0.56        92\n",
            "           1       0.80      0.88      0.84       208\n",
            "\n",
            "    accuracy                           0.76       300\n",
            "   macro avg       0.72      0.69      0.70       300\n",
            "weighted avg       0.75      0.76      0.75       300\n",
            "\n",
            "[[ 46  46]\n",
            " [ 25 183]]\n",
            "Accuracy : 0.7633333333333333\n",
            "F1-score :  0.8375286041189931\n",
            "ROC-AUC Score : 0.6899038461538461\n"
          ]
        }
      ]
    },
    {
      "cell_type": "code",
      "source": [
        "# Finding average F1 score on entire data using cross validation\n",
        "f1 =cross_val_score(xgb_clf, X , y, cv=10, scoring='f1')\n",
        "print('\\nFinal Average F1 score of the model:', round(f1.mean(),2))"
      ],
      "metadata": {
        "colab": {
          "base_uri": "https://localhost:8080/"
        },
        "id": "zQxn0iNimJi7",
        "outputId": "fdab03c3-f1c4-46de-f061-1c7b1d9d78d8"
      },
      "execution_count": 38,
      "outputs": [
        {
          "output_type": "stream",
          "name": "stdout",
          "text": [
            "\n",
            "Final Average F1 score of the model: 0.82\n"
          ]
        }
      ]
    },
    {
      "cell_type": "markdown",
      "source": [
        "## **Naive Bayes**"
      ],
      "metadata": {
        "id": "bpi5xYlRmkMD"
      }
    },
    {
      "cell_type": "code",
      "source": [
        "from sklearn.naive_bayes import GaussianNB, MultinomialNB\n",
        "\n",
        "# Training the model\n",
        "gnb_clf = GaussianNB()\n",
        "gnb_clf.fit(X_train, y_train)"
      ],
      "metadata": {
        "colab": {
          "base_uri": "https://localhost:8080/"
        },
        "id": "Uj_swOT6mOd5",
        "outputId": "a0680457-2f81-4290-87f0-1de7349e4f35"
      },
      "execution_count": 39,
      "outputs": [
        {
          "output_type": "execute_result",
          "data": {
            "text/plain": [
              "GaussianNB()"
            ]
          },
          "metadata": {},
          "execution_count": 39
        }
      ]
    },
    {
      "cell_type": "code",
      "source": [
        "# Predicting on test data\n",
        "y_pred = gnb_clf.predict(X_test)"
      ],
      "metadata": {
        "id": "FUpHDQmYGsTJ"
      },
      "execution_count": 40,
      "outputs": []
    },
    {
      "cell_type": "code",
      "source": [
        "# Evaluation metrics\n",
        "print(metrics.classification_report(y_test, y_pred))\n",
        "print(metrics.confusion_matrix(y_test, y_pred))\n",
        "print('Accuracy :', metrics.accuracy_score(y_test, y_pred))\n",
        "print('F1-score : ', metrics.f1_score(y_test, y_pred))\n",
        "print('ROC-AUC Score :', metrics.roc_auc_score(y_test, y_pred))"
      ],
      "metadata": {
        "colab": {
          "base_uri": "https://localhost:8080/"
        },
        "id": "Q9q5N29oG1Gk",
        "outputId": "50d4cc9d-c5a8-459b-c96e-4c082a8ce8ec"
      },
      "execution_count": 41,
      "outputs": [
        {
          "output_type": "stream",
          "name": "stdout",
          "text": [
            "              precision    recall  f1-score   support\n",
            "\n",
            "           0       0.52      0.75      0.61        92\n",
            "           1       0.86      0.69      0.77       208\n",
            "\n",
            "    accuracy                           0.71       300\n",
            "   macro avg       0.69      0.72      0.69       300\n",
            "weighted avg       0.76      0.71      0.72       300\n",
            "\n",
            "[[ 69  23]\n",
            " [ 64 144]]\n",
            "Accuracy : 0.71\n",
            "F1-score :  0.768\n",
            "ROC-AUC Score : 0.7211538461538461\n"
          ]
        }
      ]
    },
    {
      "cell_type": "code",
      "source": [
        "# Finding average F1 score on entire data using cross validation\n",
        "f1 =cross_val_score(gnb_clf, X , y, cv=10, scoring='f1')\n",
        "print('\\nFinal Average F1 score of the model:', round(f1.mean(),2))"
      ],
      "metadata": {
        "colab": {
          "base_uri": "https://localhost:8080/"
        },
        "id": "k2I48cYcG7zq",
        "outputId": "97a2a86b-b9d9-4f45-a0c6-872d412de90a"
      },
      "execution_count": 42,
      "outputs": [
        {
          "output_type": "stream",
          "name": "stdout",
          "text": [
            "\n",
            "Final Average F1 score of the model: 0.7\n"
          ]
        }
      ]
    },
    {
      "cell_type": "markdown",
      "source": [
        "## **SVM**"
      ],
      "metadata": {
        "id": "zhoES2U2H79D"
      }
    },
    {
      "cell_type": "code",
      "source": [
        "from sklearn import svm\n",
        "\n",
        "# training the model\n",
        "svc_clf = svm.SVC(kernel='rbf')\n",
        "svc_clf.fit(X_train, y_train)"
      ],
      "metadata": {
        "colab": {
          "base_uri": "https://localhost:8080/"
        },
        "id": "C67BEdxNHHhE",
        "outputId": "3d39604f-02f8-428a-8def-920ee8e2d43e"
      },
      "execution_count": 43,
      "outputs": [
        {
          "output_type": "execute_result",
          "data": {
            "text/plain": [
              "SVC()"
            ]
          },
          "metadata": {},
          "execution_count": 43
        }
      ]
    },
    {
      "cell_type": "code",
      "source": [
        "# Predicting on test data\n",
        "y_pred = svc_clf.predict(X_test)"
      ],
      "metadata": {
        "id": "rrRzd1m8IR0D"
      },
      "execution_count": 44,
      "outputs": []
    },
    {
      "cell_type": "code",
      "source": [
        "# Evaluation metrics\n",
        "print(metrics.classification_report(y_test, y_pred))\n",
        "print(metrics.confusion_matrix(y_test, y_pred))\n",
        "print('Accuracy :', metrics.accuracy_score(y_test, y_pred))\n",
        "print('F1-score : ', metrics.f1_score(y_test, y_pred))\n",
        "print('ROC-AUC Score :', metrics.roc_auc_score(y_test, y_pred))"
      ],
      "metadata": {
        "colab": {
          "base_uri": "https://localhost:8080/"
        },
        "id": "JW2-sXifJujv",
        "outputId": "2b886687-2275-4710-c43b-858500c32e84"
      },
      "execution_count": 45,
      "outputs": [
        {
          "output_type": "stream",
          "name": "stdout",
          "text": [
            "              precision    recall  f1-score   support\n",
            "\n",
            "           0       0.69      0.38      0.49        92\n",
            "           1       0.77      0.92      0.84       208\n",
            "\n",
            "    accuracy                           0.76       300\n",
            "   macro avg       0.73      0.65      0.66       300\n",
            "weighted avg       0.75      0.76      0.73       300\n",
            "\n",
            "[[ 35  57]\n",
            " [ 16 192]]\n",
            "Accuracy : 0.7566666666666667\n",
            "F1-score :  0.8402625820568929\n",
            "ROC-AUC Score : 0.6517558528428093\n"
          ]
        }
      ]
    },
    {
      "cell_type": "code",
      "source": [
        "# Finding average F1 score on entire data using cross validation\n",
        "f1 =cross_val_score(svc_clf, X , y, cv=10, scoring='f1')\n",
        "print('\\nFinal Average F1 score of the model:', round(f1.mean(),2))"
      ],
      "metadata": {
        "colab": {
          "base_uri": "https://localhost:8080/"
        },
        "id": "-2p3zjQ2JzeB",
        "outputId": "21bea63e-263b-45e2-f77a-f8cc258e1039"
      },
      "execution_count": 46,
      "outputs": [
        {
          "output_type": "stream",
          "name": "stdout",
          "text": [
            "\n",
            "Final Average F1 score of the model: 0.83\n"
          ]
        }
      ]
    },
    {
      "cell_type": "code",
      "source": [
        "logger.info('Initial modeling phase ends..')"
      ],
      "metadata": {
        "id": "cblEH8VDKHvq",
        "colab": {
          "base_uri": "https://localhost:8080/"
        },
        "outputId": "0467192c-6659-4901-d505-91c527d117b1"
      },
      "execution_count": 47,
      "outputs": [
        {
          "output_type": "stream",
          "name": "stderr",
          "text": [
            "INFO:root:Initial modeling phase ends..\n"
          ]
        }
      ]
    },
    {
      "cell_type": "markdown",
      "source": [
        "# **Modeling Phase 2**"
      ],
      "metadata": {
        "id": "OQvH5V5JeBku"
      }
    },
    {
      "cell_type": "code",
      "source": [
        "logger.info('Selected best model..')"
      ],
      "metadata": {
        "colab": {
          "base_uri": "https://localhost:8080/"
        },
        "id": "5ZiqZ8ra8_8R",
        "outputId": "603418dc-cfce-41fc-8747-7366389067e7"
      },
      "execution_count": 48,
      "outputs": [
        {
          "output_type": "stream",
          "name": "stderr",
          "text": [
            "INFO:root:Selected best model..\n"
          ]
        }
      ]
    },
    {
      "cell_type": "markdown",
      "source": [
        "When we look at the confusion matrix and scores(especially f1-score) of the various models, we observe that the XGBoost classifier and Naive Bayes classifier performs perhaps better.\n",
        "\n",
        "We shall take XGBoost classifier for our problem. \n",
        "\n",
        "Lets start with "
      ],
      "metadata": {
        "id": "n1_-A-X2eKN-"
      }
    },
    {
      "cell_type": "markdown",
      "source": [
        " **Feature Importance**"
      ],
      "metadata": {
        "id": "gVOmARe5eweK"
      }
    },
    {
      "cell_type": "code",
      "source": [
        "logger.info('Important features selecting..')"
      ],
      "metadata": {
        "colab": {
          "base_uri": "https://localhost:8080/"
        },
        "id": "9V4oxZcs9ML4",
        "outputId": "6da2f395-13b5-4ee8-b3bf-89ba89a7cda8"
      },
      "execution_count": 49,
      "outputs": [
        {
          "output_type": "stream",
          "name": "stderr",
          "text": [
            "INFO:root:Important features selecting..\n"
          ]
        }
      ]
    },
    {
      "cell_type": "code",
      "source": [
        "# Finding the important features\n",
        "feature_importances_xgb = pd.Series(xgb_clf.feature_importances_, index=df_engineered.drop('credit_risk',axis=1).columns)\n",
        "feature_importances_xgb.nlargest(10).plot(kind='barh')\n",
        "plt.show()"
      ],
      "metadata": {
        "colab": {
          "base_uri": "https://localhost:8080/",
          "height": 1000
        },
        "id": "ch2csmfJeJok",
        "outputId": "91856df3-1a51-4656-fe36-763a2ac446c3"
      },
      "execution_count": 51,
      "outputs": [
        {
          "output_type": "error",
          "ename": "NameError",
          "evalue": "ignored",
          "traceback": [
            "\u001b[0;31m---------------------------------------------------------------------------\u001b[0m",
            "\u001b[0;31mNameError\u001b[0m                                 Traceback (most recent call last)",
            "\u001b[0;32m<ipython-input-51-17748c9f2cea>\u001b[0m in \u001b[0;36m<module>\u001b[0;34m\u001b[0m\n\u001b[1;32m      1\u001b[0m \u001b[0mfeature_importances_xgb\u001b[0m \u001b[0;34m=\u001b[0m \u001b[0mpd\u001b[0m\u001b[0;34m.\u001b[0m\u001b[0mSeries\u001b[0m\u001b[0;34m(\u001b[0m\u001b[0mxgb_clf\u001b[0m\u001b[0;34m.\u001b[0m\u001b[0mfeature_importances_\u001b[0m\u001b[0;34m,\u001b[0m \u001b[0mindex\u001b[0m\u001b[0;34m=\u001b[0m\u001b[0mdf_engineered\u001b[0m\u001b[0;34m.\u001b[0m\u001b[0mdrop\u001b[0m\u001b[0;34m(\u001b[0m\u001b[0;34m'credit_risk'\u001b[0m\u001b[0;34m,\u001b[0m\u001b[0maxis\u001b[0m\u001b[0;34m=\u001b[0m\u001b[0;36m1\u001b[0m\u001b[0;34m)\u001b[0m\u001b[0;34m.\u001b[0m\u001b[0mcolumns\u001b[0m\u001b[0;34m)\u001b[0m\u001b[0;34m\u001b[0m\u001b[0;34m\u001b[0m\u001b[0m\n\u001b[1;32m      2\u001b[0m \u001b[0mfeature_importances_xgb\u001b[0m\u001b[0;34m.\u001b[0m\u001b[0mnlargest\u001b[0m\u001b[0;34m(\u001b[0m\u001b[0;36m10\u001b[0m\u001b[0;34m)\u001b[0m\u001b[0;34m.\u001b[0m\u001b[0mplot\u001b[0m\u001b[0;34m(\u001b[0m\u001b[0mkind\u001b[0m\u001b[0;34m=\u001b[0m\u001b[0;34m'barh'\u001b[0m\u001b[0;34m)\u001b[0m\u001b[0;34m\u001b[0m\u001b[0;34m\u001b[0m\u001b[0m\n\u001b[0;32m----> 3\u001b[0;31m \u001b[0mplt\u001b[0m\u001b[0;34m.\u001b[0m\u001b[0mshow\u001b[0m\u001b[0;34m(\u001b[0m\u001b[0;34m)\u001b[0m\u001b[0;34m\u001b[0m\u001b[0;34m\u001b[0m\u001b[0m\n\u001b[0m",
            "\u001b[0;31mNameError\u001b[0m: name 'plt' is not defined"
          ]
        },
        {
          "output_type": "stream",
          "name": "stderr",
          "text": [
            "DEBUG:matplotlib.font_manager:findfont: Matching sans\\-serif:style=normal:variant=normal:weight=normal:stretch=normal:size=10.0.\n",
            "DEBUG:matplotlib.font_manager:findfont: score(<Font 'DejaVu Serif' (DejaVuSerif.ttf) normal normal 400 normal>) = 10.05\n",
            "DEBUG:matplotlib.font_manager:findfont: score(<Font 'DejaVu Serif' (DejaVuSerif-Italic.ttf) italic normal 400 normal>) = 11.05\n",
            "DEBUG:matplotlib.font_manager:findfont: score(<Font 'DejaVu Serif' (DejaVuSerif-BoldItalic.ttf) italic normal 700 normal>) = 11.335\n",
            "DEBUG:matplotlib.font_manager:findfont: score(<Font 'DejaVu Serif' (DejaVuSerif-Bold.ttf) normal normal 700 normal>) = 10.335\n",
            "DEBUG:matplotlib.font_manager:findfont: score(<Font 'DejaVu Sans Mono' (DejaVuSansMono-Bold.ttf) normal normal 700 normal>) = 10.335\n",
            "DEBUG:matplotlib.font_manager:findfont: score(<Font 'DejaVu Sans' (DejaVuSans.ttf) normal normal 400 normal>) = 0.05\n",
            "DEBUG:matplotlib.font_manager:findfont: score(<Font 'STIXSizeOneSym' (STIXSizOneSymBol.ttf) normal normal 700 normal>) = 10.335\n",
            "DEBUG:matplotlib.font_manager:findfont: score(<Font 'STIXNonUnicode' (STIXNonUni.ttf) normal normal regular normal>) = 10.05\n",
            "DEBUG:matplotlib.font_manager:findfont: score(<Font 'DejaVu Sans Mono' (DejaVuSansMono-BoldOblique.ttf) oblique normal 700 normal>) = 11.335\n",
            "DEBUG:matplotlib.font_manager:findfont: score(<Font 'STIXNonUnicode' (STIXNonUniIta.ttf) italic normal 400 normal>) = 11.05\n",
            "DEBUG:matplotlib.font_manager:findfont: score(<Font 'STIXGeneral' (STIXGeneralBolIta.ttf) italic normal 700 normal>) = 11.335\n",
            "DEBUG:matplotlib.font_manager:findfont: score(<Font 'STIXGeneral' (STIXGeneralItalic.ttf) italic normal 400 normal>) = 11.05\n",
            "DEBUG:matplotlib.font_manager:findfont: score(<Font 'cmtt10' (cmtt10.ttf) normal normal 400 normal>) = 10.05\n",
            "DEBUG:matplotlib.font_manager:findfont: score(<Font 'DejaVu Sans' (DejaVuSans-BoldOblique.ttf) oblique normal 700 normal>) = 1.335\n",
            "DEBUG:matplotlib.font_manager:findfont: score(<Font 'STIXSizeFourSym' (STIXSizFourSymBol.ttf) normal normal 700 normal>) = 10.335\n",
            "DEBUG:matplotlib.font_manager:findfont: score(<Font 'DejaVu Sans' (DejaVuSans-Oblique.ttf) oblique normal 400 normal>) = 1.05\n",
            "DEBUG:matplotlib.font_manager:findfont: score(<Font 'STIXSizeFiveSym' (STIXSizFiveSymReg.ttf) normal normal regular normal>) = 10.05\n",
            "DEBUG:matplotlib.font_manager:findfont: score(<Font 'cmr10' (cmr10.ttf) normal normal 400 normal>) = 10.05\n",
            "DEBUG:matplotlib.font_manager:findfont: score(<Font 'DejaVu Sans' (DejaVuSans-Bold.ttf) normal normal 700 normal>) = 0.33499999999999996\n",
            "DEBUG:matplotlib.font_manager:findfont: score(<Font 'STIXSizeTwoSym' (STIXSizTwoSymBol.ttf) normal normal 700 normal>) = 10.335\n",
            "DEBUG:matplotlib.font_manager:findfont: score(<Font 'STIXNonUnicode' (STIXNonUniBol.ttf) normal normal 700 normal>) = 10.335\n",
            "DEBUG:matplotlib.font_manager:findfont: score(<Font 'STIXSizeThreeSym' (STIXSizThreeSymBol.ttf) normal normal 700 normal>) = 10.335\n",
            "DEBUG:matplotlib.font_manager:findfont: score(<Font 'STIXSizeOneSym' (STIXSizOneSymReg.ttf) normal normal regular normal>) = 10.05\n",
            "DEBUG:matplotlib.font_manager:findfont: score(<Font 'STIXNonUnicode' (STIXNonUniBolIta.ttf) italic normal 700 normal>) = 11.335\n",
            "DEBUG:matplotlib.font_manager:findfont: score(<Font 'STIXGeneral' (STIXGeneral.ttf) normal normal regular normal>) = 10.05\n",
            "DEBUG:matplotlib.font_manager:findfont: score(<Font 'DejaVu Sans Mono' (DejaVuSansMono-Oblique.ttf) oblique normal 400 normal>) = 11.05\n",
            "DEBUG:matplotlib.font_manager:findfont: score(<Font 'STIXGeneral' (STIXGeneralBol.ttf) normal normal 700 normal>) = 10.335\n",
            "DEBUG:matplotlib.font_manager:findfont: score(<Font 'cmss10' (cmss10.ttf) normal normal 400 normal>) = 10.05\n",
            "DEBUG:matplotlib.font_manager:findfont: score(<Font 'cmex10' (cmex10.ttf) normal normal 400 normal>) = 10.05\n",
            "DEBUG:matplotlib.font_manager:findfont: score(<Font 'DejaVu Sans Mono' (DejaVuSansMono.ttf) normal normal 400 normal>) = 10.05\n",
            "DEBUG:matplotlib.font_manager:findfont: score(<Font 'cmsy10' (cmsy10.ttf) normal normal 400 normal>) = 10.05\n",
            "DEBUG:matplotlib.font_manager:findfont: score(<Font 'DejaVu Sans Display' (DejaVuSansDisplay.ttf) normal normal 400 normal>) = 10.05\n",
            "DEBUG:matplotlib.font_manager:findfont: score(<Font 'DejaVu Serif Display' (DejaVuSerifDisplay.ttf) normal normal 400 normal>) = 10.05\n",
            "DEBUG:matplotlib.font_manager:findfont: score(<Font 'cmb10' (cmb10.ttf) normal normal 400 normal>) = 10.05\n",
            "DEBUG:matplotlib.font_manager:findfont: score(<Font 'STIXSizeThreeSym' (STIXSizThreeSymReg.ttf) normal normal regular normal>) = 10.05\n",
            "DEBUG:matplotlib.font_manager:findfont: score(<Font 'cmmi10' (cmmi10.ttf) normal normal 400 normal>) = 10.05\n",
            "DEBUG:matplotlib.font_manager:findfont: score(<Font 'STIXSizeFourSym' (STIXSizFourSymReg.ttf) normal normal regular normal>) = 10.05\n",
            "DEBUG:matplotlib.font_manager:findfont: score(<Font 'STIXSizeTwoSym' (STIXSizTwoSymReg.ttf) normal normal regular normal>) = 10.05\n",
            "DEBUG:matplotlib.font_manager:findfont: score(<Font 'Liberation Mono' (LiberationMono-Italic.ttf) italic normal 400 normal>) = 11.05\n",
            "DEBUG:matplotlib.font_manager:findfont: score(<Font 'Liberation Sans Narrow' (LiberationSansNarrow-BoldItalic.ttf) italic normal 700 condensed>) = 11.535\n",
            "DEBUG:matplotlib.font_manager:findfont: score(<Font 'Liberation Sans Narrow' (LiberationSansNarrow-Italic.ttf) italic normal 400 condensed>) = 11.25\n",
            "DEBUG:matplotlib.font_manager:findfont: score(<Font 'Liberation Serif' (LiberationSerif-Regular.ttf) normal normal 400 normal>) = 10.05\n",
            "DEBUG:matplotlib.font_manager:findfont: score(<Font 'Humor Sans' (Humor-Sans.ttf) normal normal 400 normal>) = 10.05\n",
            "DEBUG:matplotlib.font_manager:findfont: score(<Font 'Liberation Sans' (LiberationSans-Italic.ttf) italic normal 400 normal>) = 11.05\n",
            "DEBUG:matplotlib.font_manager:findfont: score(<Font 'Liberation Serif' (LiberationSerif-Bold.ttf) normal normal 700 normal>) = 10.335\n",
            "DEBUG:matplotlib.font_manager:findfont: score(<Font 'Liberation Mono' (LiberationMono-Bold.ttf) normal normal 700 normal>) = 10.335\n",
            "DEBUG:matplotlib.font_manager:findfont: score(<Font 'Liberation Serif' (LiberationSerif-BoldItalic.ttf) italic normal 700 normal>) = 11.335\n",
            "DEBUG:matplotlib.font_manager:findfont: score(<Font 'Liberation Mono' (LiberationMono-BoldItalic.ttf) italic normal 700 normal>) = 11.335\n",
            "DEBUG:matplotlib.font_manager:findfont: score(<Font 'Liberation Mono' (LiberationMono-Regular.ttf) normal normal 400 normal>) = 10.05\n",
            "DEBUG:matplotlib.font_manager:findfont: score(<Font 'Liberation Sans' (LiberationSans-Bold.ttf) normal normal 700 normal>) = 10.335\n",
            "DEBUG:matplotlib.font_manager:findfont: score(<Font 'Liberation Serif' (LiberationSerif-Italic.ttf) italic normal 400 normal>) = 11.05\n",
            "DEBUG:matplotlib.font_manager:findfont: score(<Font 'Liberation Sans' (LiberationSans-BoldItalic.ttf) italic normal 700 normal>) = 11.335\n",
            "DEBUG:matplotlib.font_manager:findfont: score(<Font 'Liberation Sans' (LiberationSans-Regular.ttf) normal normal 400 normal>) = 10.05\n",
            "DEBUG:matplotlib.font_manager:findfont: score(<Font 'Liberation Sans Narrow' (LiberationSansNarrow-Regular.ttf) normal normal 400 condensed>) = 10.25\n",
            "DEBUG:matplotlib.font_manager:findfont: score(<Font 'Liberation Sans Narrow' (LiberationSansNarrow-Bold.ttf) normal normal 700 condensed>) = 10.535\n",
            "DEBUG:matplotlib.font_manager:findfont: Matching sans\\-serif:style=normal:variant=normal:weight=normal:stretch=normal:size=10.0 to DejaVu Sans ('/usr/local/lib/python3.7/dist-packages/matplotlib/mpl-data/fonts/ttf/DejaVuSans.ttf') with score of 0.050000.\n"
          ]
        },
        {
          "output_type": "display_data",
          "data": {
            "text/plain": [
              "<Figure size 432x288 with 1 Axes>"
            ],
            "image/png": "[encoded data removed]"
          },
          "metadata": {
            "needs_background": "light"
          }
        }
      ]
    },
    {
      "cell_type": "markdown",
      "source": [
        "**Modeling**"
      ],
      "metadata": {
        "id": "eclKx5EisZZ-"
      }
    },
    {
      "cell_type": "code",
      "source": [
        "df_engineered.shape"
      ],
      "metadata": {
        "colab": {
          "base_uri": "https://localhost:8080/"
        },
        "id": "FSRO9errst4i",
        "outputId": "15f101e0-8bed-45bd-9314-fc5896d7ff60"
      },
      "execution_count": 52,
      "outputs": [
        {
          "output_type": "execute_result",
          "data": {
            "text/plain": [
              "(1000, 52)"
            ]
          },
          "metadata": {},
          "execution_count": 52
        }
      ]
    },
    {
      "cell_type": "code",
      "source": [
        "# Top 30 important features\n",
        "new_features = feature_importances_xgb.nlargest(30)"
      ],
      "metadata": {
        "id": "uoD2g7HIqG76"
      },
      "execution_count": 53,
      "outputs": []
    },
    {
      "cell_type": "code",
      "source": [
        "logger.info('Important features selected.')"
      ],
      "metadata": {
        "colab": {
          "base_uri": "https://localhost:8080/"
        },
        "id": "4n1Rg7Hp9QGY",
        "outputId": "90321d27-1841-4d6e-8ef5-5e90f589894e"
      },
      "execution_count": 54,
      "outputs": [
        {
          "output_type": "stream",
          "name": "stderr",
          "text": [
            "INFO:root:Important features selected.\n"
          ]
        }
      ]
    },
    {
      "cell_type": "code",
      "source": [
        "new_features.index"
      ],
      "metadata": {
        "id": "MgzmicNN88Ow",
        "colab": {
          "base_uri": "https://localhost:8080/"
        },
        "outputId": "ad117889-fafc-444c-dac2-b11efa3d62eb"
      },
      "execution_count": 56,
      "outputs": [
        {
          "output_type": "execute_result",
          "data": {
            "text/plain": [
              "Index(['status_4', 'employment_duration_1', 'savings_1', 'other_debtors_1',\n",
              "       'credit_history_1', 'credit_history_4', 'status_1', 'purpose_1',\n",
              "       'duration', 'savings_5', 'purpose_0', 'property_4',\n",
              "       'other_installment_plans_3', 'other_debtors_3', 'property_1',\n",
              "       'other_debtors_2', 'employment_duration_2', 'amount', 'purpose_6',\n",
              "       'age', 'savings_4', 'credit_history_3', 'employment_duration_4',\n",
              "       'credit_history_0', 'property_2', 'housing_1', 'status_3',\n",
              "       'employment_duration_5', 'personal_status_sex_3', 'housing_2'],\n",
              "      dtype='object')"
            ]
          },
          "metadata": {},
          "execution_count": 56
        }
      ]
    },
    {
      "cell_type": "code",
      "source": [
        "# Final data for our modeling\n",
        "df_final = df_engineered[new_features.index]\n",
        "df_final['credit_risk'] = df_engineered['credit_risk']\n",
        "df_final.head(3)"
      ],
      "metadata": {
        "colab": {
          "base_uri": "https://localhost:8080/",
          "height": 237
        },
        "id": "hawfnAh1-GQi",
        "outputId": "d94f0e3e-2c40-4ab1-c708-d7d3924cca52"
      },
      "execution_count": 57,
      "outputs": [
        {
          "output_type": "execute_result",
          "data": {
            "text/plain": [
              "     status_4  employment_duration_1  savings_1  other_debtors_1  \\\n",
              "296         0                      0          1                1   \n",
              "255         0                      0          1                1   \n",
              "312         0                      0          0                1   \n",
              "\n",
              "     credit_history_1  credit_history_4  status_1  purpose_1  duration  \\\n",
              "296                 0                 1         1          0        18   \n",
              "255                 0                 1         1          0         9   \n",
              "312                 0                 0         0          0        12   \n",
              "\n",
              "     savings_5  ...  credit_history_3  employment_duration_4  \\\n",
              "296          0  ...                 0                      0   \n",
              "255          0  ...                 0                      0   \n",
              "312          0  ...                 0                      1   \n",
              "\n",
              "     credit_history_0  property_2  housing_1  status_3  employment_duration_5  \\\n",
              "296                 0           1          1         0                      0   \n",
              "255                 0           0          1         0                      0   \n",
              "312                 0           0          1         0                      0   \n",
              "\n",
              "     personal_status_sex_3  housing_2  credit_risk  \n",
              "296                      0          0            1  \n",
              "255                      1          0            1  \n",
              "312                      0          0            1  \n",
              "\n",
              "[3 rows x 31 columns]"
            ],
            "text/html": [
              "\n",
              "  <div id=\"df-6c22de01-2871-4189-aa7a-d4a67df88fd6\">\n",
              "    <div class=\"colab-df-container\">\n",
              "      <div>\n",
              "<style scoped>\n",
              "    .dataframe tbody tr th:only-of-type {\n",
              "        vertical-align: middle;\n",
              "    }\n",
              "\n",
              "    .dataframe tbody tr th {\n",
              "        vertical-align: top;\n",
              "    }\n",
              "\n",
              "    .dataframe thead th {\n",
              "        text-align: right;\n",
              "    }\n",
              "</style>\n",
              "<table border=\"1\" class=\"dataframe\">\n",
              "  <thead>\n",
              "    <tr style=\"text-align: right;\">\n",
              "      <th></th>\n",
              "      <th>status_4</th>\n",
              "      <th>employment_duration_1</th>\n",
              "      <th>savings_1</th>\n",
              "      <th>other_debtors_1</th>\n",
              "      <th>credit_history_1</th>\n",
              "      <th>credit_history_4</th>\n",
              "      <th>status_1</th>\n",
              "      <th>purpose_1</th>\n",
              "      <th>duration</th>\n",
              "      <th>savings_5</th>\n",
              "      <th>...</th>\n",
              "      <th>credit_history_3</th>\n",
              "      <th>employment_duration_4</th>\n",
              "      <th>credit_history_0</th>\n",
              "      <th>property_2</th>\n",
              "      <th>housing_1</th>\n",
              "      <th>status_3</th>\n",
              "      <th>employment_duration_5</th>\n",
              "      <th>personal_status_sex_3</th>\n",
              "      <th>housing_2</th>\n",
              "      <th>credit_risk</th>\n",
              "    </tr>\n",
              "  </thead>\n",
              "  <tbody>\n",
              "    <tr>\n",
              "      <th>296</th>\n",
              "      <td>0</td>\n",
              "      <td>0</td>\n",
              "      <td>1</td>\n",
              "      <td>1</td>\n",
              "      <td>0</td>\n",
              "      <td>1</td>\n",
              "      <td>1</td>\n",
              "      <td>0</td>\n",
              "      <td>18</td>\n",
              "      <td>0</td>\n",
              "      <td>...</td>\n",
              "      <td>0</td>\n",
              "      <td>0</td>\n",
              "      <td>0</td>\n",
              "      <td>1</td>\n",
              "      <td>1</td>\n",
              "      <td>0</td>\n",
              "      <td>0</td>\n",
              "      <td>0</td>\n",
              "      <td>0</td>\n",
              "      <td>1</td>\n",
              "    </tr>\n",
              "    <tr>\n",
              "      <th>255</th>\n",
              "      <td>0</td>\n",
              "      <td>0</td>\n",
              "      <td>1</td>\n",
              "      <td>1</td>\n",
              "      <td>0</td>\n",
              "      <td>1</td>\n",
              "      <td>1</td>\n",
              "      <td>0</td>\n",
              "      <td>9</td>\n",
              "      <td>0</td>\n",
              "      <td>...</td>\n",
              "      <td>0</td>\n",
              "      <td>0</td>\n",
              "      <td>0</td>\n",
              "      <td>0</td>\n",
              "      <td>1</td>\n",
              "      <td>0</td>\n",
              "      <td>0</td>\n",
              "      <td>1</td>\n",
              "      <td>0</td>\n",
              "      <td>1</td>\n",
              "    </tr>\n",
              "    <tr>\n",
              "      <th>312</th>\n",
              "      <td>0</td>\n",
              "      <td>0</td>\n",
              "      <td>0</td>\n",
              "      <td>1</td>\n",
              "      <td>0</td>\n",
              "      <td>0</td>\n",
              "      <td>0</td>\n",
              "      <td>0</td>\n",
              "      <td>12</td>\n",
              "      <td>0</td>\n",
              "      <td>...</td>\n",
              "      <td>0</td>\n",
              "      <td>1</td>\n",
              "      <td>0</td>\n",
              "      <td>0</td>\n",
              "      <td>1</td>\n",
              "      <td>0</td>\n",
              "      <td>0</td>\n",
              "      <td>0</td>\n",
              "      <td>0</td>\n",
              "      <td>1</td>\n",
              "    </tr>\n",
              "  </tbody>\n",
              "</table>\n",
              "<p>3 rows × 31 columns</p>\n",
              "</div>\n",
              "      <button class=\"colab-df-convert\" onclick=\"convertToInteractive('df-6c22de01-2871-4189-aa7a-d4a67df88fd6')\"\n",
              "              title=\"Convert this dataframe to an interactive table.\"\n",
              "              style=\"display:none;\">\n",
              "        \n",
              "  <svg xmlns=\"http://www.w3.org/2000/svg\" height=\"24px\"viewBox=\"0 0 24 24\"\n",
              "       width=\"24px\">\n",
              "    <path d=\"M0 0h24v24H0V0z\" fill=\"none\"/>\n",
              "    <path d=\"M18.56 5.44l.94 2.06.94-2.06 2.06-.94-2.06-.94-.94-2.06-.94 2.06-2.06.94zm-11 1L8.5 8.5l.94-2.06 2.06-.94-2.06-.94L8.5 2.5l-.94 2.06-2.06.94zm10 10l.94 2.06.94-2.06 2.06-.94-2.06-.94-.94-2.06-.94 2.06-2.06.94z\"/><path d=\"M17.41 7.96l-1.37-1.37c-.4-.4-.92-.59-1.43-.59-.52 0-1.04.2-1.43.59L10.3 9.45l-7.72 7.72c-.78.78-.78 2.05 0 2.83L4 21.41c.39.39.9.59 1.41.59.51 0 1.02-.2 1.41-.59l7.78-7.78 2.81-2.81c.8-.78.8-2.07 0-2.86zM5.41 20L4 18.59l7.72-7.72 1.47 1.35L5.41 20z\"/>\n",
              "  </svg>\n",
              "      </button>\n",
              "      \n",
              "  <style>\n",
              "    .colab-df-container {\n",
              "      display:flex;\n",
              "      flex-wrap:wrap;\n",
              "      gap: 12px;\n",
              "    }\n",
              "\n",
              "    .colab-df-convert {\n",
              "      background-color: #E8F0FE;\n",
              "      border: none;\n",
              "      border-radius: 50%;\n",
              "      cursor: pointer;\n",
              "      display: none;\n",
              "      fill: #1967D2;\n",
              "      height: 32px;\n",
              "      padding: 0 0 0 0;\n",
              "      width: 32px;\n",
              "    }\n",
              "\n",
              "    .colab-df-convert:hover {\n",
              "      background-color: #E2EBFA;\n",
              "      box-shadow: 0px 1px 2px rgba(60, 64, 67, 0.3), 0px 1px 3px 1px rgba(60, 64, 67, 0.15);\n",
              "      fill: #174EA6;\n",
              "    }\n",
              "\n",
              "    [theme=dark] .colab-df-convert {\n",
              "      background-color: #3B4455;\n",
              "      fill: #D2E3FC;\n",
              "    }\n",
              "\n",
              "    [theme=dark] .colab-df-convert:hover {\n",
              "      background-color: #434B5C;\n",
              "      box-shadow: 0px 1px 3px 1px rgba(0, 0, 0, 0.15);\n",
              "      filter: drop-shadow(0px 1px 2px rgba(0, 0, 0, 0.3));\n",
              "      fill: #FFFFFF;\n",
              "    }\n",
              "  </style>\n",
              "\n",
              "      <script>\n",
              "        const buttonEl =\n",
              "          document.querySelector('#df-6c22de01-2871-4189-aa7a-d4a67df88fd6 button.colab-df-convert');\n",
              "        buttonEl.style.display =\n",
              "          google.colab.kernel.accessAllowed ? 'block' : 'none';\n",
              "\n",
              "        async function convertToInteractive(key) {\n",
              "          const element = document.querySelector('#df-6c22de01-2871-4189-aa7a-d4a67df88fd6');\n",
              "          const dataTable =\n",
              "            await google.colab.kernel.invokeFunction('convertToInteractive',\n",
              "                                                     [key], {});\n",
              "          if (!dataTable) return;\n",
              "\n",
              "          const docLinkHtml = 'Like what you see? Visit the ' +\n",
              "            '<a target=\"_blank\" href=https://colab.research.google.com/notebooks/data_table.ipynb>data table notebook</a>'\n",
              "            + ' to learn more about interactive tables.';\n",
              "          element.innerHTML = '';\n",
              "          dataTable['output_type'] = 'display_data';\n",
              "          await google.colab.output.renderOutput(dataTable, element);\n",
              "          const docLink = document.createElement('div');\n",
              "          docLink.innerHTML = docLinkHtml;\n",
              "          element.appendChild(docLink);\n",
              "        }\n",
              "      </script>\n",
              "    </div>\n",
              "  </div>\n",
              "  "
            ]
          },
          "metadata": {},
          "execution_count": 57
        }
      ]
    },
    {
      "cell_type": "code",
      "source": [
        "# Rearranging the columns\n",
        "df_final = df_final[['duration', 'amount', 'age', 'status_1', 'status_3', 'status_4', 'employment_duration_1', 'employment_duration_2',\n",
        "            'employment_duration_4', 'employment_duration_5', 'savings_1', 'savings_4', 'savings_5',\n",
        "            'other_debtors_1', 'other_debtors_2', 'other_debtors_3', 'credit_history_0', 'credit_history_1', 'credit_history_3',\n",
        "            'credit_history_4', 'purpose_0', 'purpose_1', 'purpose_6', 'property_1', 'property_2', 'property_4',\n",
        "            'other_installment_plans_3', 'housing_1', 'housing_2', 'personal_status_sex_3', 'credit_risk']]\n",
        "df_final.head(3)"
      ],
      "metadata": {
        "colab": {
          "base_uri": "https://localhost:8080/",
          "height": 237
        },
        "id": "M4sQmTC5-Rkh",
        "outputId": "233dc539-cbae-409e-ae92-cd0d7cc26b02"
      },
      "execution_count": 58,
      "outputs": [
        {
          "output_type": "execute_result",
          "data": {
            "text/plain": [
              "     duration  amount  age  status_1  status_3  status_4  \\\n",
              "296        18    1049   21         1         0         0   \n",
              "255         9    2799   36         1         0         0   \n",
              "312        12     841   23         0         0         0   \n",
              "\n",
              "     employment_duration_1  employment_duration_2  employment_duration_4  \\\n",
              "296                      0                      1                      0   \n",
              "255                      0                      0                      0   \n",
              "312                      0                      0                      1   \n",
              "\n",
              "     employment_duration_5  ...  purpose_1  purpose_6  property_1  property_2  \\\n",
              "296                      0  ...          0          0           0           1   \n",
              "255                      0  ...          0          0           1           0   \n",
              "312                      0  ...          0          0           1           0   \n",
              "\n",
              "     property_4  other_installment_plans_3  housing_1  housing_2  \\\n",
              "296           0                          1          1          0   \n",
              "255           0                          1          1          0   \n",
              "312           0                          1          1          0   \n",
              "\n",
              "     personal_status_sex_3  credit_risk  \n",
              "296                      0            1  \n",
              "255                      1            1  \n",
              "312                      0            1  \n",
              "\n",
              "[3 rows x 31 columns]"
            ],
            "text/html": [
              "\n",
              "  <div id=\"df-a813adbd-e192-4f8b-a8e2-d0057e615840\">\n",
              "    <div class=\"colab-df-container\">\n",
              "      <div>\n",
              "<style scoped>\n",
              "    .dataframe tbody tr th:only-of-type {\n",
              "        vertical-align: middle;\n",
              "    }\n",
              "\n",
              "    .dataframe tbody tr th {\n",
              "        vertical-align: top;\n",
              "    }\n",
              "\n",
              "    .dataframe thead th {\n",
              "        text-align: right;\n",
              "    }\n",
              "</style>\n",
              "<table border=\"1\" class=\"dataframe\">\n",
              "  <thead>\n",
              "    <tr style=\"text-align: right;\">\n",
              "      <th></th>\n",
              "      <th>duration</th>\n",
              "      <th>amount</th>\n",
              "      <th>age</th>\n",
              "      <th>status_1</th>\n",
              "      <th>status_3</th>\n",
              "      <th>status_4</th>\n",
              "      <th>employment_duration_1</th>\n",
              "      <th>employment_duration_2</th>\n",
              "      <th>employment_duration_4</th>\n",
              "      <th>employment_duration_5</th>\n",
              "      <th>...</th>\n",
              "      <th>purpose_1</th>\n",
              "      <th>purpose_6</th>\n",
              "      <th>property_1</th>\n",
              "      <th>property_2</th>\n",
              "      <th>property_4</th>\n",
              "      <th>other_installment_plans_3</th>\n",
              "      <th>housing_1</th>\n",
              "      <th>housing_2</th>\n",
              "      <th>personal_status_sex_3</th>\n",
              "      <th>credit_risk</th>\n",
              "    </tr>\n",
              "  </thead>\n",
              "  <tbody>\n",
              "    <tr>\n",
              "      <th>296</th>\n",
              "      <td>18</td>\n",
              "      <td>1049</td>\n",
              "      <td>21</td>\n",
              "      <td>1</td>\n",
              "      <td>0</td>\n",
              "      <td>0</td>\n",
              "      <td>0</td>\n",
              "      <td>1</td>\n",
              "      <td>0</td>\n",
              "      <td>0</td>\n",
              "      <td>...</td>\n",
              "      <td>0</td>\n",
              "      <td>0</td>\n",
              "      <td>0</td>\n",
              "      <td>1</td>\n",
              "      <td>0</td>\n",
              "      <td>1</td>\n",
              "      <td>1</td>\n",
              "      <td>0</td>\n",
              "      <td>0</td>\n",
              "      <td>1</td>\n",
              "    </tr>\n",
              "    <tr>\n",
              "      <th>255</th>\n",
              "      <td>9</td>\n",
              "      <td>2799</td>\n",
              "      <td>36</td>\n",
              "      <td>1</td>\n",
              "      <td>0</td>\n",
              "      <td>0</td>\n",
              "      <td>0</td>\n",
              "      <td>0</td>\n",
              "      <td>0</td>\n",
              "      <td>0</td>\n",
              "      <td>...</td>\n",
              "      <td>0</td>\n",
              "      <td>0</td>\n",
              "      <td>1</td>\n",
              "      <td>0</td>\n",
              "      <td>0</td>\n",
              "      <td>1</td>\n",
              "      <td>1</td>\n",
              "      <td>0</td>\n",
              "      <td>1</td>\n",
              "      <td>1</td>\n",
              "    </tr>\n",
              "    <tr>\n",
              "      <th>312</th>\n",
              "      <td>12</td>\n",
              "      <td>841</td>\n",
              "      <td>23</td>\n",
              "      <td>0</td>\n",
              "      <td>0</td>\n",
              "      <td>0</td>\n",
              "      <td>0</td>\n",
              "      <td>0</td>\n",
              "      <td>1</td>\n",
              "      <td>0</td>\n",
              "      <td>...</td>\n",
              "      <td>0</td>\n",
              "      <td>0</td>\n",
              "      <td>1</td>\n",
              "      <td>0</td>\n",
              "      <td>0</td>\n",
              "      <td>1</td>\n",
              "      <td>1</td>\n",
              "      <td>0</td>\n",
              "      <td>0</td>\n",
              "      <td>1</td>\n",
              "    </tr>\n",
              "  </tbody>\n",
              "</table>\n",
              "<p>3 rows × 31 columns</p>\n",
              "</div>\n",
              "      <button class=\"colab-df-convert\" onclick=\"convertToInteractive('df-a813adbd-e192-4f8b-a8e2-d0057e615840')\"\n",
              "              title=\"Convert this dataframe to an interactive table.\"\n",
              "              style=\"display:none;\">\n",
              "        \n",
              "  <svg xmlns=\"http://www.w3.org/2000/svg\" height=\"24px\"viewBox=\"0 0 24 24\"\n",
              "       width=\"24px\">\n",
              "    <path d=\"M0 0h24v24H0V0z\" fill=\"none\"/>\n",
              "    <path d=\"M18.56 5.44l.94 2.06.94-2.06 2.06-.94-2.06-.94-.94-2.06-.94 2.06-2.06.94zm-11 1L8.5 8.5l.94-2.06 2.06-.94-2.06-.94L8.5 2.5l-.94 2.06-2.06.94zm10 10l.94 2.06.94-2.06 2.06-.94-2.06-.94-.94-2.06-.94 2.06-2.06.94z\"/><path d=\"M17.41 7.96l-1.37-1.37c-.4-.4-.92-.59-1.43-.59-.52 0-1.04.2-1.43.59L10.3 9.45l-7.72 7.72c-.78.78-.78 2.05 0 2.83L4 21.41c.39.39.9.59 1.41.59.51 0 1.02-.2 1.41-.59l7.78-7.78 2.81-2.81c.8-.78.8-2.07 0-2.86zM5.41 20L4 18.59l7.72-7.72 1.47 1.35L5.41 20z\"/>\n",
              "  </svg>\n",
              "      </button>\n",
              "      \n",
              "  <style>\n",
              "    .colab-df-container {\n",
              "      display:flex;\n",
              "      flex-wrap:wrap;\n",
              "      gap: 12px;\n",
              "    }\n",
              "\n",
              "    .colab-df-convert {\n",
              "      background-color: #E8F0FE;\n",
              "      border: none;\n",
              "      border-radius: 50%;\n",
              "      cursor: pointer;\n",
              "      display: none;\n",
              "      fill: #1967D2;\n",
              "      height: 32px;\n",
              "      padding: 0 0 0 0;\n",
              "      width: 32px;\n",
              "    }\n",
              "\n",
              "    .colab-df-convert:hover {\n",
              "      background-color: #E2EBFA;\n",
              "      box-shadow: 0px 1px 2px rgba(60, 64, 67, 0.3), 0px 1px 3px 1px rgba(60, 64, 67, 0.15);\n",
              "      fill: #174EA6;\n",
              "    }\n",
              "\n",
              "    [theme=dark] .colab-df-convert {\n",
              "      background-color: #3B4455;\n",
              "      fill: #D2E3FC;\n",
              "    }\n",
              "\n",
              "    [theme=dark] .colab-df-convert:hover {\n",
              "      background-color: #434B5C;\n",
              "      box-shadow: 0px 1px 3px 1px rgba(0, 0, 0, 0.15);\n",
              "      filter: drop-shadow(0px 1px 2px rgba(0, 0, 0, 0.3));\n",
              "      fill: #FFFFFF;\n",
              "    }\n",
              "  </style>\n",
              "\n",
              "      <script>\n",
              "        const buttonEl =\n",
              "          document.querySelector('#df-a813adbd-e192-4f8b-a8e2-d0057e615840 button.colab-df-convert');\n",
              "        buttonEl.style.display =\n",
              "          google.colab.kernel.accessAllowed ? 'block' : 'none';\n",
              "\n",
              "        async function convertToInteractive(key) {\n",
              "          const element = document.querySelector('#df-a813adbd-e192-4f8b-a8e2-d0057e615840');\n",
              "          const dataTable =\n",
              "            await google.colab.kernel.invokeFunction('convertToInteractive',\n",
              "                                                     [key], {});\n",
              "          if (!dataTable) return;\n",
              "\n",
              "          const docLinkHtml = 'Like what you see? Visit the ' +\n",
              "            '<a target=\"_blank\" href=https://colab.research.google.com/notebooks/data_table.ipynb>data table notebook</a>'\n",
              "            + ' to learn more about interactive tables.';\n",
              "          element.innerHTML = '';\n",
              "          dataTable['output_type'] = 'display_data';\n",
              "          await google.colab.output.renderOutput(dataTable, element);\n",
              "          const docLink = document.createElement('div');\n",
              "          docLink.innerHTML = docLinkHtml;\n",
              "          element.appendChild(docLink);\n",
              "        }\n",
              "      </script>\n",
              "    </div>\n",
              "  </div>\n",
              "  "
            ]
          },
          "metadata": {},
          "execution_count": 58
        }
      ]
    },
    {
      "cell_type": "code",
      "source": [
        "X = df_final.drop('credit_risk', axis=1).values\n",
        "y = df_final['credit_risk'].values"
      ],
      "metadata": {
        "id": "35muxnWlqWR_",
        "colab": {
          "base_uri": "https://localhost:8080/"
        },
        "outputId": "0983c2f4-0bf5-4e8d-8065-1ed7d71e933c"
      },
      "execution_count": 59,
      "outputs": [
        {
          "output_type": "stream",
          "name": "stderr",
          "text": [
            "DEBUG:cassandra.connection:Sending options message heartbeat on idle connection (140645114987280) 40bf567c-d6f1-41f4-acdc-2d55f7a65760-asia-south1.db.astra.datastax.com:29042:7d78e9c1-0951-47e5-ac2c-283fe5fc2d65\n",
            "DEBUG:cassandra.connection:Sending options message heartbeat on idle connection (140645114986704) 40bf567c-d6f1-41f4-acdc-2d55f7a65760-asia-south1.db.astra.datastax.com:29042:358ca568-08f7-42a4-8574-b72c6a0af7b7\n",
            "DEBUG:cassandra.connection:Sending options message heartbeat on idle connection (140645093192656) 40bf567c-d6f1-41f4-acdc-2d55f7a65760-asia-south1.db.astra.datastax.com:29042:44e57ad8-5416-4b95-85e3-f9e4c0f2a66b\n",
            "DEBUG:cassandra.connection:Sending options message heartbeat on idle connection (140645115347600) 40bf567c-d6f1-41f4-acdc-2d55f7a65760-asia-south1.db.astra.datastax.com:29042:44e57ad8-5416-4b95-85e3-f9e4c0f2a66b\n",
            "DEBUG:cassandra.connection:Received options response on connection (140645115347600) from 40bf567c-d6f1-41f4-acdc-2d55f7a65760-asia-south1.db.astra.datastax.com:29042:44e57ad8-5416-4b95-85e3-f9e4c0f2a66b\n",
            "DEBUG:cassandra.connection:Received options response on connection (140645093192656) from 40bf567c-d6f1-41f4-acdc-2d55f7a65760-asia-south1.db.astra.datastax.com:29042:44e57ad8-5416-4b95-85e3-f9e4c0f2a66b\n",
            "DEBUG:cassandra.connection:Received options response on connection (140645114987280) from 40bf567c-d6f1-41f4-acdc-2d55f7a65760-asia-south1.db.astra.datastax.com:29042:7d78e9c1-0951-47e5-ac2c-283fe5fc2d65\n",
            "DEBUG:cassandra.connection:Received options response on connection (140645114986704) from 40bf567c-d6f1-41f4-acdc-2d55f7a65760-asia-south1.db.astra.datastax.com:29042:358ca568-08f7-42a4-8574-b72c6a0af7b7\n"
          ]
        }
      ]
    },
    {
      "cell_type": "code",
      "source": [
        "#standardise the x value by using standardscaler\n",
        "scaler = StandardScaler()\n",
        "X = scaler.fit_transform(X)"
      ],
      "metadata": {
        "id": "IUcbG48svEib"
      },
      "execution_count": 61,
      "outputs": []
    },
    {
      "cell_type": "code",
      "source": [
        "X_train, X_test, y_train, y_test = train_test_split(X, y, test_size=0.3, random_state=42)"
      ],
      "metadata": {
        "id": "vGZf1Y1syU-m"
      },
      "execution_count": 62,
      "outputs": []
    },
    {
      "cell_type": "code",
      "source": [
        "# Training the model\n",
        "xgb_clf2 = XGBClassifier(objective='binary:logistic', booster='gbtree')\n",
        "xgb_clf2.fit(X_train, y_train)"
      ],
      "metadata": {
        "colab": {
          "base_uri": "https://localhost:8080/"
        },
        "id": "0fo0ynHHqf9O",
        "outputId": "ab0e955c-61c2-480b-df90-dd4c89732f57"
      },
      "execution_count": 63,
      "outputs": [
        {
          "output_type": "execute_result",
          "data": {
            "text/plain": [
              "XGBClassifier()"
            ]
          },
          "metadata": {},
          "execution_count": 63
        }
      ]
    },
    {
      "cell_type": "code",
      "source": [
        "# Predicting on test data\n",
        "y_pred = xgb_clf2.predict(X_test)"
      ],
      "metadata": {
        "id": "OiAody5Pr7cI"
      },
      "execution_count": 64,
      "outputs": []
    },
    {
      "cell_type": "code",
      "source": [
        "# Evaluation metrics\n",
        "print(metrics.classification_report(y_test, y_pred))\n",
        "print(metrics.confusion_matrix(y_test, y_pred))\n",
        "print('Accuracy :', metrics.accuracy_score(y_test, y_pred))\n",
        "print('F1-score : ', metrics.f1_score(y_test, y_pred))\n",
        "print('ROC-AUC Score :', metrics.roc_auc_score(y_test, y_pred))"
      ],
      "metadata": {
        "colab": {
          "base_uri": "https://localhost:8080/"
        },
        "id": "wt2Tl16jsDYi",
        "outputId": "5979dc66-4b07-4619-e1e7-7f493630143e"
      },
      "execution_count": 65,
      "outputs": [
        {
          "output_type": "stream",
          "name": "stdout",
          "text": [
            "              precision    recall  f1-score   support\n",
            "\n",
            "           0       0.63      0.52      0.57        92\n",
            "           1       0.80      0.87      0.83       208\n",
            "\n",
            "    accuracy                           0.76       300\n",
            "   macro avg       0.72      0.69      0.70       300\n",
            "weighted avg       0.75      0.76      0.75       300\n",
            "\n",
            "[[ 48  44]\n",
            " [ 28 180]]\n",
            "Accuracy : 0.76\n",
            "F1-score :  0.8333333333333334\n",
            "ROC-AUC Score : 0.6935618729096991\n"
          ]
        }
      ]
    },
    {
      "cell_type": "code",
      "source": [
        "# Finding average F1 score on entire data using cross validation\n",
        "f1 =cross_val_score(xgb_clf2, X , y, cv=10, scoring='f1')\n",
        "print('\\nFinal F1 score of the model:', round(f1.mean(),2))"
      ],
      "metadata": {
        "colab": {
          "base_uri": "https://localhost:8080/"
        },
        "id": "Ix0UheV0sIgB",
        "outputId": "c6636293-0fff-4058-8b65-ce7f41c75325"
      },
      "execution_count": 68,
      "outputs": [
        {
          "output_type": "stream",
          "name": "stdout",
          "text": [
            "\n",
            "Final F1 score of the model: 0.82\n"
          ]
        }
      ]
    },
    {
      "cell_type": "markdown",
      "source": [
        "**Hyperparameter Tuning**"
      ],
      "metadata": {
        "id": "GJ0Wo4WAuqJh"
      }
    },
    {
      "cell_type": "code",
      "source": [
        "logger.info('Hyperparameter tuning starts..')"
      ],
      "metadata": {
        "colab": {
          "base_uri": "https://localhost:8080/"
        },
        "id": "KEfpyTWu9XHj",
        "outputId": "572d7846-dbed-4100-baf2-fadff0cbfb44"
      },
      "execution_count": 69,
      "outputs": [
        {
          "output_type": "stream",
          "name": "stderr",
          "text": [
            "INFO:root:Hyperparameter tuning starts..\n"
          ]
        }
      ]
    },
    {
      "cell_type": "code",
      "source": [
        "import datetime\n",
        "def timer(start_time=None):\n",
        "    if not start_time:\n",
        "        start_time = datetime.now()\n",
        "        return start_time\n",
        "    elif start_time:\n",
        "        thour, temp_sec = divmod((datetime.now() - start_time).total_seconds(), 3600)\n",
        "        tmin, tsec = divmod(temp_sec, 60)\n",
        "        print('\\n Time taken: %i hours %i minutes and %s seconds.' % (thour, tmin, round(tsec, 2)))"
      ],
      "metadata": {
        "id": "t-CQvg1RUtO0"
      },
      "execution_count": 70,
      "outputs": []
    },
    {
      "cell_type": "code",
      "source": [
        "# List of parameters\n",
        "params={\n",
        "        \"learning_rate\"    : [0.05, 0.10, 0.15, 0.20, 0.25, 0.30 ] ,\n",
        "        \"max_depth\"        : [ 3, 4, 5, 6, 8, 10, 12, 15],\n",
        "        \"min_child_weight\" : [ 1, 3, 5, 7 ],\n",
        "        \"gamma\"            : [ 0.0, 0.1, 0.2 , 0.3, 0.4 ],\n",
        "        \"colsample_bytree\" : [ 0.3, 0.4, 0.5 , 0.7 ],\n",
        "        \"n_estimators\"     : [100, 300, 500]\n",
        "       }\n",
        "\n",
        "xgb_clf3 = XGBClassifier()\n",
        "rs = RandomizedSearchCV(xgb_clf3,param_distributions=params,n_iter=5,scoring='f1',n_jobs=-1,cv=5,verbose=3)"
      ],
      "metadata": {
        "id": "zl4Jby4hsTdB"
      },
      "execution_count": 71,
      "outputs": []
    },
    {
      "cell_type": "code",
      "source": [
        "from datetime import datetime\n",
        "# Fitting the model\n",
        "start_time = timer(None) # timing starts from this point for \"start_time\" variable\n",
        "rs.fit(X,y)\n",
        "timer(start_time)"
      ],
      "metadata": {
        "colab": {
          "base_uri": "https://localhost:8080/"
        },
        "id": "_J6neTG_grEF",
        "outputId": "401feb8b-b0c4-431c-971b-82433434ddb8"
      },
      "execution_count": 72,
      "outputs": [
        {
          "output_type": "stream",
          "name": "stdout",
          "text": [
            "Fitting 5 folds for each of 5 candidates, totalling 25 fits\n",
            "\n",
            " Time taken: 0 hours 0 minutes and 4.33 seconds.\n"
          ]
        }
      ]
    },
    {
      "cell_type": "code",
      "source": [
        "rs.best_estimator_"
      ],
      "metadata": {
        "id": "oSDicXfrXCcW",
        "colab": {
          "base_uri": "https://localhost:8080/"
        },
        "outputId": "c47ad6e2-eb2f-4591-c44f-c1a1b01e6b79"
      },
      "execution_count": 73,
      "outputs": [
        {
          "output_type": "execute_result",
          "data": {
            "text/plain": [
              "XGBClassifier(colsample_bytree=0.3, gamma=0.0, learning_rate=0.15,\n",
              "              min_child_weight=7)"
            ]
          },
          "metadata": {},
          "execution_count": 73
        }
      ]
    },
    {
      "cell_type": "code",
      "source": [
        "rs.best_params_"
      ],
      "metadata": {
        "colab": {
          "base_uri": "https://localhost:8080/"
        },
        "id": "1tdBIfUniMJJ",
        "outputId": "8673d716-e876-4726-928f-de8b8c2d7755"
      },
      "execution_count": 74,
      "outputs": [
        {
          "output_type": "execute_result",
          "data": {
            "text/plain": [
              "{'n_estimators': 100,\n",
              " 'min_child_weight': 7,\n",
              " 'max_depth': 3,\n",
              " 'learning_rate': 0.15,\n",
              " 'gamma': 0.0,\n",
              " 'colsample_bytree': 0.3}"
            ]
          },
          "metadata": {},
          "execution_count": 74
        }
      ]
    },
    {
      "cell_type": "code",
      "source": [
        "logger.info('Best parameter values extracted')"
      ],
      "metadata": {
        "colab": {
          "base_uri": "https://localhost:8080/"
        },
        "id": "Ke7794hV9diR",
        "outputId": "d9193ba3-8166-4730-f89a-49255ca4f0af"
      },
      "execution_count": 75,
      "outputs": [
        {
          "output_type": "stream",
          "name": "stderr",
          "text": [
            "INFO:root:Best parameter values extracted\n"
          ]
        }
      ]
    },
    {
      "cell_type": "markdown",
      "source": [
        "**Modeling with the obtained parameters**"
      ],
      "metadata": {
        "id": "vaEvVa3bjxM3"
      }
    },
    {
      "cell_type": "code",
      "source": [
        "logger.info('Modeling phase 2 starts..')"
      ],
      "metadata": {
        "colab": {
          "base_uri": "https://localhost:8080/"
        },
        "id": "4XoSlsE29jSI",
        "outputId": "2cbd2ec9-5028-4ee2-863e-57a553951534"
      },
      "execution_count": 76,
      "outputs": [
        {
          "output_type": "stream",
          "name": "stderr",
          "text": [
            "INFO:root:Modeling phase 2 starts..\n"
          ]
        }
      ]
    },
    {
      "cell_type": "code",
      "source": [
        "xgb_clf4 = XGBClassifier(colsample_bytree=0.7, \n",
        "                         gamma=0.4, \n",
        "                         learning_rate= 0.1,\n",
        "                         max_depth=15, \n",
        "                         min_child_weight=3,\n",
        "                         n_estimators=300)"
      ],
      "metadata": {
        "id": "9bElZ-V0iTWW"
      },
      "execution_count": 77,
      "outputs": []
    },
    {
      "cell_type": "code",
      "source": [
        "xgb_clf4.fit(X_train, y_train)"
      ],
      "metadata": {
        "colab": {
          "base_uri": "https://localhost:8080/"
        },
        "id": "R26v0Pubin89",
        "outputId": "89b65ed2-c97b-4336-9e57-f96327cf4bf2"
      },
      "execution_count": 78,
      "outputs": [
        {
          "output_type": "execute_result",
          "data": {
            "text/plain": [
              "XGBClassifier(colsample_bytree=0.7, gamma=0.4, max_depth=15, min_child_weight=3,\n",
              "              n_estimators=300)"
            ]
          },
          "metadata": {},
          "execution_count": 78
        }
      ]
    },
    {
      "cell_type": "code",
      "source": [
        "y_pred = xgb_clf4.predict(X_test)"
      ],
      "metadata": {
        "id": "S-m3aNIti0ja"
      },
      "execution_count": 79,
      "outputs": []
    },
    {
      "cell_type": "code",
      "source": [
        "print(metrics.classification_report(y_test, y_pred))\n",
        "print(metrics.confusion_matrix(y_test, y_pred))\n",
        "print('Accuracy :', metrics.accuracy_score(y_test, y_pred))\n",
        "print('F1-score : ', metrics.f1_score(y_test, y_pred))\n",
        "print('ROC-AUC Score :', metrics.roc_auc_score(y_test, y_pred))"
      ],
      "metadata": {
        "colab": {
          "base_uri": "https://localhost:8080/"
        },
        "id": "ta1y2_X4i7ys",
        "outputId": "de6371c5-d31e-41a8-8977-7d4a462a8655"
      },
      "execution_count": 80,
      "outputs": [
        {
          "output_type": "stream",
          "name": "stdout",
          "text": [
            "              precision    recall  f1-score   support\n",
            "\n",
            "           0       0.63      0.53      0.58        92\n",
            "           1       0.81      0.86      0.83       208\n",
            "\n",
            "    accuracy                           0.76       300\n",
            "   macro avg       0.72      0.70      0.70       300\n",
            "weighted avg       0.75      0.76      0.75       300\n",
            "\n",
            "[[ 49  43]\n",
            " [ 29 179]]\n",
            "Accuracy : 0.76\n",
            "F1-score :  0.8325581395348838\n",
            "ROC-AUC Score : 0.6965928093645485\n"
          ]
        }
      ]
    },
    {
      "cell_type": "code",
      "source": [
        "f1 =cross_val_score(xgb_clf4, X , y, cv=10, scoring='f1')\n",
        "print('\\nFinal F1 score of the model:', round(f1.mean(),2))"
      ],
      "metadata": {
        "colab": {
          "base_uri": "https://localhost:8080/"
        },
        "id": "OzH6CEPSjASA",
        "outputId": "e3f83bf3-34cf-4cca-f54d-114e4962e0f9"
      },
      "execution_count": 82,
      "outputs": [
        {
          "output_type": "stream",
          "name": "stdout",
          "text": [
            "\n",
            "Final F1 score of the model: 0.83\n"
          ]
        }
      ]
    },
    {
      "cell_type": "code",
      "source": [
        "logger.info('Modeleing phase 2 completed.')"
      ],
      "metadata": {
        "id": "el2ZV7OvgebI",
        "colab": {
          "base_uri": "https://localhost:8080/"
        },
        "outputId": "31002ef5-b339-4dfc-ee43-6c56e9077fc7"
      },
      "execution_count": 83,
      "outputs": [
        {
          "output_type": "stream",
          "name": "stderr",
          "text": [
            "INFO:root:Modeleing phase 2 completed.\n"
          ]
        }
      ]
    },
    {
      "cell_type": "markdown",
      "source": [
        "# **Save model and Push the final dataset to database**"
      ],
      "metadata": {
        "id": "Zn3KVRvtqaYf"
      }
    },
    {
      "cell_type": "markdown",
      "source": [
        "**Saving the model**"
      ],
      "metadata": {
        "id": "D0GKJ1JN1Dsq"
      }
    },
    {
      "cell_type": "code",
      "source": [
        "import pickle"
      ],
      "metadata": {
        "id": "p07mGDVKrIv5"
      },
      "execution_count": null,
      "outputs": []
    },
    {
      "cell_type": "code",
      "source": [
        "pickle.dump(xgb_clf4, open('crc.pkl', 'wb'))"
      ],
      "metadata": {
        "id": "sraIBAR4qkcR"
      },
      "execution_count": null,
      "outputs": []
    },
    {
      "cell_type": "code",
      "source": [
        "logger.info('Model saved for deployment.')"
      ],
      "metadata": {
        "id": "dClZkuDKgkkY",
        "colab": {
          "base_uri": "https://localhost:8080/"
        },
        "outputId": "c1ea822c-d3ff-4a16-ac84-024f6db67d2c"
      },
      "execution_count": null,
      "outputs": [
        {
          "output_type": "stream",
          "name": "stderr",
          "text": [
            "INFO:root:Model saved for deployment.\n"
          ]
        }
      ]
    }
  ],
  "metadata": {
    "colab": {
      "provenance": [],
      "authorship_tag": "ABX9TyPNOrJS9hohQy7ooONPpFkt"
    },
    "kernelspec": {
      "display_name": "Python 3",
      "name": "python3"
    },
    "language_info": {
      "name": "python"
    }
  },
  "nbformat": 4,
  "nbformat_minor": 0
}